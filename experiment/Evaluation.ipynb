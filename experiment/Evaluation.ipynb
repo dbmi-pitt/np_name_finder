{
 "cells": [
  {
   "cell_type": "markdown",
   "id": "6af2f21c",
   "metadata": {},
   "source": [
    "# Imports & Globals"
   ]
  },
  {
   "cell_type": "code",
   "execution_count": 1,
   "id": "83e99bdb",
   "metadata": {},
   "outputs": [
    {
     "name": "stderr",
     "output_type": "stream",
     "text": [
      "2022-10-27 15:06:34.450911: I tensorflow/core/platform/cpu_feature_guard.cc:193] This TensorFlow binary is optimized with oneAPI Deep Neural Network Library (oneDNN) to use the following CPU instructions in performance-critical operations:  AVX2 FMA\n",
      "To enable them in other operations, rebuild TensorFlow with the appropriate compiler flags.\n",
      "2022-10-27 15:06:34.570111: E tensorflow/stream_executor/cuda/cuda_blas.cc:2981] Unable to register cuBLAS factory: Attempting to register factory for plugin cuBLAS when one has already been registered\n",
      "2022-10-27 15:06:34.992947: W tensorflow/stream_executor/platform/default/dso_loader.cc:64] Could not load dynamic library 'libnvinfer.so.7'; dlerror: libnvrtc.so.11.1: cannot open shared object file: No such file or directory; LD_LIBRARY_PATH: :/home/israel/miniconda3/envs/tf/lib/:/home/israel/miniconda3/envs/tf/lib/:/home/israel/miniconda3/envs/tf/lib/:/home/israel/miniconda3/envs/tf/lib/:/home/israel/miniconda3/envs/tf/lib/:/home/israel/miniconda3/envs/tf/lib/:/home/israel/miniconda3/envs/tf/lib/:/home/israel/miniconda3/envs/tf/lib/:/home/israel/miniconda3/envs/tf/lib/:/home/israel/miniconda3/envs/tf/lib/:/home/israel/miniconda3/envs/tf/lib/\n",
      "2022-10-27 15:06:34.992999: W tensorflow/stream_executor/platform/default/dso_loader.cc:64] Could not load dynamic library 'libnvinfer_plugin.so.7'; dlerror: libnvinfer_plugin.so.7: cannot open shared object file: No such file or directory; LD_LIBRARY_PATH: :/home/israel/miniconda3/envs/tf/lib/:/home/israel/miniconda3/envs/tf/lib/:/home/israel/miniconda3/envs/tf/lib/:/home/israel/miniconda3/envs/tf/lib/:/home/israel/miniconda3/envs/tf/lib/:/home/israel/miniconda3/envs/tf/lib/:/home/israel/miniconda3/envs/tf/lib/:/home/israel/miniconda3/envs/tf/lib/:/home/israel/miniconda3/envs/tf/lib/:/home/israel/miniconda3/envs/tf/lib/:/home/israel/miniconda3/envs/tf/lib/\n",
      "2022-10-27 15:06:34.993004: W tensorflow/compiler/tf2tensorrt/utils/py_utils.cc:38] TF-TRT Warning: Cannot dlopen some TensorRT libraries. If you would like to use Nvidia GPU with TensorRT, please make sure the missing libraries mentioned above are installed properly.\n"
     ]
    }
   ],
   "source": [
    "import pickle\n",
    "import pandas as pd\n",
    "import numpy as np\n",
    "from yaml import safe_load\n",
    "import tensorflow as tf\n",
    "import matplotlib.pyplot as plt\n",
    "plt.rcParams['patch.force_edgecolor'] = True\n",
    "%matplotlib inline"
   ]
  },
  {
   "cell_type": "code",
   "execution_count": 2,
   "id": "cc0b993f",
   "metadata": {},
   "outputs": [],
   "source": [
    "from StringProcessing import preprocessInput, encode_pad_tag, balance_complete_set"
   ]
  },
  {
   "cell_type": "code",
   "execution_count": 3,
   "id": "460444cd",
   "metadata": {},
   "outputs": [
    {
     "name": "stdout",
     "output_type": "stream",
     "text": [
      "tf.version:  2.10.0\n",
      "tf.keras.version:  2.10.0\n",
      "tf.config.devices:  [PhysicalDevice(name='/physical_device:CPU:0', device_type='CPU'), PhysicalDevice(name='/physical_device:GPU:0', device_type='GPU')]\n"
     ]
    },
    {
     "name": "stderr",
     "output_type": "stream",
     "text": [
      "2022-10-27 15:06:35.958323: I tensorflow/stream_executor/cuda/cuda_gpu_executor.cc:980] successful NUMA node read from SysFS had negative value (-1), but there must be at least one NUMA node, so returning NUMA node zero\n",
      "2022-10-27 15:06:35.991910: I tensorflow/stream_executor/cuda/cuda_gpu_executor.cc:980] successful NUMA node read from SysFS had negative value (-1), but there must be at least one NUMA node, so returning NUMA node zero\n",
      "2022-10-27 15:06:35.992056: I tensorflow/stream_executor/cuda/cuda_gpu_executor.cc:980] successful NUMA node read from SysFS had negative value (-1), but there must be at least one NUMA node, so returning NUMA node zero\n",
      "2022-10-27 15:06:35.992459: I tensorflow/core/platform/cpu_feature_guard.cc:193] This TensorFlow binary is optimized with oneAPI Deep Neural Network Library (oneDNN) to use the following CPU instructions in performance-critical operations:  AVX2 FMA\n",
      "To enable them in other operations, rebuild TensorFlow with the appropriate compiler flags.\n",
      "2022-10-27 15:06:35.993493: I tensorflow/stream_executor/cuda/cuda_gpu_executor.cc:980] successful NUMA node read from SysFS had negative value (-1), but there must be at least one NUMA node, so returning NUMA node zero\n",
      "2022-10-27 15:06:35.993615: I tensorflow/stream_executor/cuda/cuda_gpu_executor.cc:980] successful NUMA node read from SysFS had negative value (-1), but there must be at least one NUMA node, so returning NUMA node zero\n",
      "2022-10-27 15:06:35.993723: I tensorflow/stream_executor/cuda/cuda_gpu_executor.cc:980] successful NUMA node read from SysFS had negative value (-1), but there must be at least one NUMA node, so returning NUMA node zero\n",
      "2022-10-27 15:06:36.341216: I tensorflow/stream_executor/cuda/cuda_gpu_executor.cc:980] successful NUMA node read from SysFS had negative value (-1), but there must be at least one NUMA node, so returning NUMA node zero\n",
      "2022-10-27 15:06:36.341378: I tensorflow/stream_executor/cuda/cuda_gpu_executor.cc:980] successful NUMA node read from SysFS had negative value (-1), but there must be at least one NUMA node, so returning NUMA node zero\n",
      "2022-10-27 15:06:36.341488: I tensorflow/stream_executor/cuda/cuda_gpu_executor.cc:980] successful NUMA node read from SysFS had negative value (-1), but there must be at least one NUMA node, so returning NUMA node zero\n",
      "2022-10-27 15:06:36.341580: I tensorflow/core/common_runtime/gpu/gpu_device.cc:1616] Created device /device:GPU:0 with 6656 MB memory:  -> device: 0, name: NVIDIA GeForce RTX 2070 with Max-Q Design, pci bus id: 0000:01:00.0, compute capability: 7.5\n"
     ]
    }
   ],
   "source": [
    "from SiameseModel import CosineDistance, ContrastiveLoss "
   ]
  },
  {
   "cell_type": "code",
   "execution_count": 4,
   "id": "e39139fa",
   "metadata": {},
   "outputs": [],
   "source": [
    "from ModelEvaluation import find_Model_ranks, find_Levenshtein_ranks, find_Gesalt_ranks"
   ]
  },
  {
   "cell_type": "code",
   "execution_count": 5,
   "id": "d0a21748",
   "metadata": {},
   "outputs": [],
   "source": [
    "#Maximum sequence length including padding\n",
    "global MAXLEN\n",
    "with open('LSTM65.yaml', 'r') as file:\n",
    "    model_config = safe_load(file)\n",
    "    MAXLEN = model_config['MAXLEN']"
   ]
  },
  {
   "cell_type": "markdown",
   "id": "34891f72",
   "metadata": {},
   "source": [
    "# Pickled Datasets"
   ]
  },
  {
   "cell_type": "code",
   "execution_count": 6,
   "id": "99073085",
   "metadata": {},
   "outputs": [],
   "source": [
    "dUnique_df = pd.read_pickle(\"../data/dUnique_df.pkl\")\n",
    "dfneg2 = pd.read_pickle(\"../data/dfneg2.pkl\")\n",
    "test = pd.read_pickle(\"../data/test.pkl\")"
   ]
  },
  {
   "cell_type": "markdown",
   "id": "ffdcd664",
   "metadata": {},
   "source": [
    "--------------------------------"
   ]
  },
  {
   "cell_type": "markdown",
   "id": "b7e10db6",
   "metadata": {},
   "source": [
    "# Build model, load weights and evaluate on test data"
   ]
  },
  {
   "cell_type": "code",
   "execution_count": 7,
   "id": "dd19e241",
   "metadata": {},
   "outputs": [
    {
     "name": "stderr",
     "output_type": "stream",
     "text": [
      "2022-10-27 15:06:36.900146: I tensorflow/stream_executor/cuda/cuda_gpu_executor.cc:980] successful NUMA node read from SysFS had negative value (-1), but there must be at least one NUMA node, so returning NUMA node zero\n",
      "2022-10-27 15:06:36.900324: I tensorflow/stream_executor/cuda/cuda_gpu_executor.cc:980] successful NUMA node read from SysFS had negative value (-1), but there must be at least one NUMA node, so returning NUMA node zero\n",
      "2022-10-27 15:06:36.900427: I tensorflow/stream_executor/cuda/cuda_gpu_executor.cc:980] successful NUMA node read from SysFS had negative value (-1), but there must be at least one NUMA node, so returning NUMA node zero\n",
      "2022-10-27 15:06:36.900572: I tensorflow/stream_executor/cuda/cuda_gpu_executor.cc:980] successful NUMA node read from SysFS had negative value (-1), but there must be at least one NUMA node, so returning NUMA node zero\n",
      "2022-10-27 15:06:36.900677: I tensorflow/stream_executor/cuda/cuda_gpu_executor.cc:980] successful NUMA node read from SysFS had negative value (-1), but there must be at least one NUMA node, so returning NUMA node zero\n",
      "2022-10-27 15:06:36.900758: I tensorflow/core/common_runtime/gpu/gpu_device.cc:1616] Created device /job:localhost/replica:0/task:0/device:GPU:0 with 6656 MB memory:  -> device: 0, name: NVIDIA GeForce RTX 2070 with Max-Q Design, pci bus id: 0000:01:00.0, compute capability: 7.5\n",
      "2022-10-27 15:06:37.997999: W tensorflow/core/common_runtime/graph_constructor.cc:805] Node 'cond/while' has 13 outputs but the _output_shapes attribute specifies shapes for 46 outputs. Output shapes may be inaccurate.\n",
      "2022-10-27 15:06:38.402140: W tensorflow/core/common_runtime/graph_constructor.cc:805] Node 'cond/while' has 13 outputs but the _output_shapes attribute specifies shapes for 46 outputs. Output shapes may be inaccurate.\n",
      "2022-10-27 15:06:38.573813: W tensorflow/core/common_runtime/graph_constructor.cc:805] Node 'cond/while' has 13 outputs but the _output_shapes attribute specifies shapes for 46 outputs. Output shapes may be inaccurate.\n",
      "2022-10-27 15:06:38.582725: W tensorflow/core/common_runtime/graph_constructor.cc:805] Node 'cond' has 5 outputs but the _output_shapes attribute specifies shapes for 46 outputs. Output shapes may be inaccurate.\n",
      "2022-10-27 15:06:38.648408: W tensorflow/core/common_runtime/graph_constructor.cc:805] Node 'cond/while' has 13 outputs but the _output_shapes attribute specifies shapes for 46 outputs. Output shapes may be inaccurate.\n",
      "2022-10-27 15:06:39.295319: W tensorflow/core/common_runtime/graph_constructor.cc:805] Node 'cond/while' has 13 outputs but the _output_shapes attribute specifies shapes for 46 outputs. Output shapes may be inaccurate.\n",
      "2022-10-27 15:06:39.431936: W tensorflow/core/common_runtime/graph_constructor.cc:805] Node 'cond/while' has 13 outputs but the _output_shapes attribute specifies shapes for 46 outputs. Output shapes may be inaccurate.\n",
      "2022-10-27 15:06:39.458246: W tensorflow/core/common_runtime/graph_constructor.cc:805] Node 'cond/while' has 13 outputs but the _output_shapes attribute specifies shapes for 46 outputs. Output shapes may be inaccurate.\n",
      "2022-10-27 15:06:39.587308: W tensorflow/core/common_runtime/graph_constructor.cc:805] Node 'cond/while' has 13 outputs but the _output_shapes attribute specifies shapes for 46 outputs. Output shapes may be inaccurate.\n",
      "2022-10-27 15:06:39.596445: W tensorflow/core/common_runtime/graph_constructor.cc:805] Node 'cond' has 5 outputs but the _output_shapes attribute specifies shapes for 46 outputs. Output shapes may be inaccurate.\n",
      "2022-10-27 15:06:40.037541: W tensorflow/core/common_runtime/graph_constructor.cc:805] Node 'cond/while' has 13 outputs but the _output_shapes attribute specifies shapes for 46 outputs. Output shapes may be inaccurate.\n",
      "2022-10-27 15:06:40.281705: W tensorflow/core/common_runtime/graph_constructor.cc:805] Node 'cond' has 5 outputs but the _output_shapes attribute specifies shapes for 46 outputs. Output shapes may be inaccurate.\n",
      "2022-10-27 15:06:40.358906: W tensorflow/core/common_runtime/graph_constructor.cc:805] Node 'cond/while' has 13 outputs but the _output_shapes attribute specifies shapes for 46 outputs. Output shapes may be inaccurate.\n",
      "2022-10-27 15:06:40.598578: W tensorflow/core/common_runtime/graph_constructor.cc:805] Node 'cond/while' has 13 outputs but the _output_shapes attribute specifies shapes for 46 outputs. Output shapes may be inaccurate.\n",
      "2022-10-27 15:06:40.655113: W tensorflow/core/common_runtime/graph_constructor.cc:805] Node 'cond/while' has 13 outputs but the _output_shapes attribute specifies shapes for 46 outputs. Output shapes may be inaccurate.\n",
      "2022-10-27 15:06:40.664055: W tensorflow/core/common_runtime/graph_constructor.cc:805] Node 'cond' has 5 outputs but the _output_shapes attribute specifies shapes for 46 outputs. Output shapes may be inaccurate.\n",
      "2022-10-27 15:06:40.863933: W tensorflow/core/common_runtime/graph_constructor.cc:805] Node 'cond' has 5 outputs but the _output_shapes attribute specifies shapes for 46 outputs. Output shapes may be inaccurate.\n",
      "2022-10-27 15:06:41.051572: W tensorflow/core/common_runtime/graph_constructor.cc:805] Node 'cond' has 5 outputs but the _output_shapes attribute specifies shapes for 46 outputs. Output shapes may be inaccurate.\n",
      "2022-10-27 15:06:41.061538: W tensorflow/core/common_runtime/graph_constructor.cc:805] Node 'cond/while' has 13 outputs but the _output_shapes attribute specifies shapes for 46 outputs. Output shapes may be inaccurate.\n",
      "2022-10-27 15:06:41.160049: W tensorflow/core/common_runtime/graph_constructor.cc:805] Node 'cond/while' has 13 outputs but the _output_shapes attribute specifies shapes for 46 outputs. Output shapes may be inaccurate.\n",
      "2022-10-27 15:06:41.221136: W tensorflow/core/common_runtime/graph_constructor.cc:805] Node 'cond' has 5 outputs but the _output_shapes attribute specifies shapes for 46 outputs. Output shapes may be inaccurate.\n",
      "2022-10-27 15:06:41.301241: W tensorflow/core/common_runtime/graph_constructor.cc:805] Node 'cond' has 5 outputs but the _output_shapes attribute specifies shapes for 46 outputs. Output shapes may be inaccurate.\n",
      "2022-10-27 15:06:41.518618: W tensorflow/core/common_runtime/graph_constructor.cc:805] Node 'cond' has 5 outputs but the _output_shapes attribute specifies shapes for 46 outputs. Output shapes may be inaccurate.\n",
      "2022-10-27 15:06:41.949650: W tensorflow/core/common_runtime/graph_constructor.cc:805] Node 'cond' has 5 outputs but the _output_shapes attribute specifies shapes for 46 outputs. Output shapes may be inaccurate.\n",
      "2022-10-27 15:06:41.964580: W tensorflow/core/common_runtime/graph_constructor.cc:805] Node 'cond/while' has 13 outputs but the _output_shapes attribute specifies shapes for 46 outputs. Output shapes may be inaccurate.\n",
      "2022-10-27 15:06:41.972983: W tensorflow/core/common_runtime/graph_constructor.cc:805] Node 'cond' has 5 outputs but the _output_shapes attribute specifies shapes for 46 outputs. Output shapes may be inaccurate.\n",
      "2022-10-27 15:06:42.108131: W tensorflow/core/common_runtime/graph_constructor.cc:805] Node 'cond' has 5 outputs but the _output_shapes attribute specifies shapes for 46 outputs. Output shapes may be inaccurate.\n",
      "2022-10-27 15:06:42.137979: W tensorflow/core/common_runtime/graph_constructor.cc:805] Node 'cond' has 5 outputs but the _output_shapes attribute specifies shapes for 46 outputs. Output shapes may be inaccurate.\n",
      "2022-10-27 15:06:42.358788: W tensorflow/core/common_runtime/graph_constructor.cc:805] Node 'cond' has 5 outputs but the _output_shapes attribute specifies shapes for 46 outputs. Output shapes may be inaccurate.\n",
      "2022-10-27 15:06:42.618283: W tensorflow/core/common_runtime/graph_constructor.cc:805] Node 'cond/while' has 13 outputs but the _output_shapes attribute specifies shapes for 46 outputs. Output shapes may be inaccurate.\n",
      "2022-10-27 15:06:42.627575: W tensorflow/core/common_runtime/graph_constructor.cc:805] Node 'cond' has 5 outputs but the _output_shapes attribute specifies shapes for 46 outputs. Output shapes may be inaccurate.\n",
      "2022-10-27 15:06:42.774733: W tensorflow/core/common_runtime/graph_constructor.cc:805] Node 'cond' has 5 outputs but the _output_shapes attribute specifies shapes for 46 outputs. Output shapes may be inaccurate.\n"
     ]
    },
    {
     "name": "stderr",
     "output_type": "stream",
     "text": [
      "2022-10-27 15:06:42.942452: W tensorflow/core/common_runtime/graph_constructor.cc:805] Node 'cond/while' has 13 outputs but the _output_shapes attribute specifies shapes for 46 outputs. Output shapes may be inaccurate.\n",
      "2022-10-27 15:06:42.951156: W tensorflow/core/common_runtime/graph_constructor.cc:805] Node 'cond' has 5 outputs but the _output_shapes attribute specifies shapes for 46 outputs. Output shapes may be inaccurate.\n",
      "2022-10-27 15:06:43.022484: W tensorflow/core/common_runtime/graph_constructor.cc:805] Node 'cond/while' has 13 outputs but the _output_shapes attribute specifies shapes for 46 outputs. Output shapes may be inaccurate.\n",
      "2022-10-27 15:06:43.031198: W tensorflow/core/common_runtime/graph_constructor.cc:805] Node 'cond' has 5 outputs but the _output_shapes attribute specifies shapes for 46 outputs. Output shapes may be inaccurate.\n",
      "2022-10-27 15:06:43.040818: W tensorflow/core/common_runtime/graph_constructor.cc:805] Node 'cond/while' has 13 outputs but the _output_shapes attribute specifies shapes for 46 outputs. Output shapes may be inaccurate.\n",
      "2022-10-27 15:06:43.049180: W tensorflow/core/common_runtime/graph_constructor.cc:805] Node 'cond' has 5 outputs but the _output_shapes attribute specifies shapes for 46 outputs. Output shapes may be inaccurate.\n",
      "2022-10-27 15:06:43.058626: W tensorflow/core/common_runtime/graph_constructor.cc:805] Node 'cond/while' has 13 outputs but the _output_shapes attribute specifies shapes for 46 outputs. Output shapes may be inaccurate.\n",
      "2022-10-27 15:06:43.067109: W tensorflow/core/common_runtime/graph_constructor.cc:805] Node 'cond' has 5 outputs but the _output_shapes attribute specifies shapes for 46 outputs. Output shapes may be inaccurate.\n",
      "2022-10-27 15:06:43.190180: W tensorflow/core/common_runtime/graph_constructor.cc:805] Node 'cond/while' has 13 outputs but the _output_shapes attribute specifies shapes for 46 outputs. Output shapes may be inaccurate.\n",
      "2022-10-27 15:06:43.199201: W tensorflow/core/common_runtime/graph_constructor.cc:805] Node 'cond' has 5 outputs but the _output_shapes attribute specifies shapes for 46 outputs. Output shapes may be inaccurate.\n",
      "2022-10-27 15:06:43.754003: W tensorflow/core/common_runtime/graph_constructor.cc:805] Node 'cond/while' has 13 outputs but the _output_shapes attribute specifies shapes for 46 outputs. Output shapes may be inaccurate.\n",
      "2022-10-27 15:06:43.764075: W tensorflow/core/common_runtime/graph_constructor.cc:805] Node 'cond' has 5 outputs but the _output_shapes attribute specifies shapes for 46 outputs. Output shapes may be inaccurate.\n",
      "2022-10-27 15:06:43.841801: W tensorflow/core/common_runtime/graph_constructor.cc:805] Node 'cond/while' has 13 outputs but the _output_shapes attribute specifies shapes for 46 outputs. Output shapes may be inaccurate.\n",
      "2022-10-27 15:06:43.850760: W tensorflow/core/common_runtime/graph_constructor.cc:805] Node 'cond' has 5 outputs but the _output_shapes attribute specifies shapes for 46 outputs. Output shapes may be inaccurate.\n",
      "2022-10-27 15:06:44.212797: W tensorflow/core/common_runtime/graph_constructor.cc:805] Node 'cond/while' has 13 outputs but the _output_shapes attribute specifies shapes for 46 outputs. Output shapes may be inaccurate.\n",
      "2022-10-27 15:06:44.222051: W tensorflow/core/common_runtime/graph_constructor.cc:805] Node 'cond' has 5 outputs but the _output_shapes attribute specifies shapes for 46 outputs. Output shapes may be inaccurate.\n"
     ]
    },
    {
     "name": "stdout",
     "output_type": "stream",
     "text": [
      "Model: \"model_1\"\n",
      "__________________________________________________________________________________________________\n",
      " Layer (type)                   Output Shape         Param #     Connected to                     \n",
      "==================================================================================================\n",
      " input_2 (InputLayer)           [(None, 65)]         0           []                               \n",
      "                                                                                                  \n",
      " input_3 (InputLayer)           [(None, 65)]         0           []                               \n",
      "                                                                                                  \n",
      " model (Functional)             (None, 65)           115065      ['input_2[0][0]',                \n",
      "                                                                  'input_3[0][0]']                \n",
      "                                                                                                  \n",
      " lambda (Lambda)                (None, 1)            0           ['model[0][0]',                  \n",
      "                                                                  'model[1][0]']                  \n",
      "                                                                                                  \n",
      " batch_normalization_1 (BatchNo  (None, 1)           4           ['lambda[0][0]']                 \n",
      " rmalization)                                                                                     \n",
      "                                                                                                  \n",
      " dense_2 (Dense)                (None, 1)            2           ['batch_normalization_1[0][0]']  \n",
      "                                                                                                  \n",
      "==================================================================================================\n",
      "Total params: 115,071\n",
      "Trainable params: 114,869\n",
      "Non-trainable params: 202\n",
      "__________________________________________________________________________________________________\n"
     ]
    }
   ],
   "source": [
    "model = tf.keras.models.load_model(\n",
    "    './saved_models/{}'.format(model_config[\"Model_Name\"]), \n",
    "    custom_objects = {\n",
    "        'CosineDistance': CosineDistance,\n",
    "        'ContrastiveLoss': ContrastiveLoss\n",
    "    }, \n",
    "    compile=True, \n",
    "    options=None\n",
    ")\n",
    "model.summary()"
   ]
  },
  {
   "cell_type": "markdown",
   "id": "607f58ca",
   "metadata": {},
   "source": [
    "---------------------------------------------------------------"
   ]
  },
  {
   "cell_type": "markdown",
   "id": "b06b0601",
   "metadata": {},
   "source": [
    "# Evaluation"
   ]
  },
  {
   "cell_type": "markdown",
   "id": "e7103902",
   "metadata": {},
   "source": [
    "## Unique target labels"
   ]
  },
  {
   "cell_type": "code",
   "execution_count": 8,
   "id": "f0323d8d",
   "metadata": {},
   "outputs": [
    {
     "data": {
      "text/html": [
       "<div>\n",
       "<style scoped>\n",
       "    .dataframe tbody tr th:only-of-type {\n",
       "        vertical-align: middle;\n",
       "    }\n",
       "\n",
       "    .dataframe tbody tr th {\n",
       "        vertical-align: top;\n",
       "    }\n",
       "\n",
       "    .dataframe thead th {\n",
       "        text-align: right;\n",
       "    }\n",
       "</style>\n",
       "<table border=\"1\" class=\"dataframe\">\n",
       "  <thead>\n",
       "    <tr style=\"text-align: right;\">\n",
       "      <th></th>\n",
       "      <th>dUnique_label</th>\n",
       "      <th>dUnique_seq_padded</th>\n",
       "    </tr>\n",
       "  </thead>\n",
       "  <tbody>\n",
       "    <tr>\n",
       "      <th>0</th>\n",
       "      <td>AAI</td>\n",
       "      <td>[1, 1, 9, 0, 0, 0, 0, 0, 0, 0, 0, 0, 0, 0, 0, ...</td>\n",
       "    </tr>\n",
       "    <tr>\n",
       "      <th>1</th>\n",
       "      <td>AARONSROD</td>\n",
       "      <td>[1, 1, 18, 15, 14, 19, 18, 15, 4, 0, 0, 0, 0, ...</td>\n",
       "    </tr>\n",
       "    <tr>\n",
       "      <th>2</th>\n",
       "      <td>ABIES ALBA</td>\n",
       "      <td>[1, 2, 9, 5, 19, 27, 1, 12, 2, 1, 0, 0, 0, 0, ...</td>\n",
       "    </tr>\n",
       "    <tr>\n",
       "      <th>3</th>\n",
       "      <td>ABSINTHE</td>\n",
       "      <td>[1, 2, 19, 9, 14, 20, 8, 5, 0, 0, 0, 0, 0, 0, ...</td>\n",
       "    </tr>\n",
       "    <tr>\n",
       "      <th>4</th>\n",
       "      <td>ABSINTHE WORMWOOD</td>\n",
       "      <td>[1, 2, 19, 9, 14, 20, 8, 5, 27, 23, 15, 18, 13...</td>\n",
       "    </tr>\n",
       "  </tbody>\n",
       "</table>\n",
       "</div>"
      ],
      "text/plain": [
       "       dUnique_label                                 dUnique_seq_padded\n",
       "0                AAI  [1, 1, 9, 0, 0, 0, 0, 0, 0, 0, 0, 0, 0, 0, 0, ...\n",
       "1          AARONSROD  [1, 1, 18, 15, 14, 19, 18, 15, 4, 0, 0, 0, 0, ...\n",
       "2         ABIES ALBA  [1, 2, 9, 5, 19, 27, 1, 12, 2, 1, 0, 0, 0, 0, ...\n",
       "3           ABSINTHE  [1, 2, 19, 9, 14, 20, 8, 5, 0, 0, 0, 0, 0, 0, ...\n",
       "4  ABSINTHE WORMWOOD  [1, 2, 19, 9, 14, 20, 8, 5, 27, 23, 15, 18, 13..."
      ]
     },
     "execution_count": 8,
     "metadata": {},
     "output_type": "execute_result"
    }
   ],
   "source": [
    "dUnique_df.head()"
   ]
  },
  {
   "cell_type": "code",
   "execution_count": 9,
   "id": "cd82b94c",
   "metadata": {},
   "outputs": [
    {
     "data": {
      "text/plain": [
       "1879"
      ]
     },
     "execution_count": 9,
     "metadata": {},
     "output_type": "execute_result"
    }
   ],
   "source": [
    "dUnique_df.index.size"
   ]
  },
  {
   "cell_type": "code",
   "execution_count": 10,
   "id": "0bf0c0cc",
   "metadata": {},
   "outputs": [
    {
     "name": "stdout",
     "output_type": "stream",
     "text": [
      "<class 'pandas.core.frame.DataFrame'>\n",
      "RangeIndex: 1299 entries, 0 to 1298\n",
      "Data columns (total 2 columns):\n",
      " #   Column    Non-Null Count  Dtype \n",
      "---  ------    --------------  ----- \n",
      " 0   lb        1299 non-null   object\n",
      " 1   mappings  1299 non-null   object\n",
      "dtypes: object(2)\n",
      "memory usage: 20.4+ KB\n",
      "None\n",
      "Processing file: ----------------------------------------\n",
      "Renaming colums:\n",
      "\tCurrent names: Index(['lb', 'mappings'], dtype='object')\n",
      "\tNew names: Index(['x', 'y'], dtype='object')\n",
      "Dropping row with empty cells:\n",
      "\tDropped 0 rows with empty cells.\n",
      "\tCleaning string sequences.\n",
      "\tUppercasing string sequences.\n",
      "Dropping sequences longer than the maxlen of 65:\n",
      "\tDropped 0 that exceeded the maximum sequence length.\n",
      "Dropping duplicate sequences:\n",
      "\tDropped 321 duplicate sequences.\n",
      "Done processing: ---------------------------------------\n",
      "<class 'pandas.core.frame.DataFrame'>\n",
      "RangeIndex: 2277 entries, 0 to 2276\n",
      "Data columns (total 2 columns):\n",
      " #   Column  Non-Null Count  Dtype \n",
      "---  ------  --------------  ----- \n",
      " 0   x       2277 non-null   object\n",
      " 1   y       2277 non-null   object\n",
      "dtypes: object(2)\n",
      "memory usage: 35.7+ KB\n",
      "None\n"
     ]
    }
   ],
   "source": [
    "latin_2_common = preprocessInput('../data/vocabulary_LB_to_common_names_09082022.tsv', maxlen= MAXLEN, reflexive=True, balance = False, noise=None, sep='\\t')"
   ]
  },
  {
   "cell_type": "code",
   "execution_count": 11,
   "id": "9d720bb3",
   "metadata": {},
   "outputs": [
    {
     "name": "stdout",
     "output_type": "stream",
     "text": [
      "<class 'pandas.core.frame.DataFrame'>\n",
      "RangeIndex: 728 entries, 0 to 727\n",
      "Data columns (total 2 columns):\n",
      " #   Column          Non-Null Count  Dtype \n",
      "---  ------          --------------  ----- \n",
      " 0   common_name     728 non-null    object\n",
      " 1   latin_binomial  728 non-null    object\n",
      "dtypes: object(2)\n",
      "memory usage: 11.5+ KB\n",
      "None\n",
      "Processing file: ----------------------------------------\n",
      "Renaming colums:\n",
      "\tCurrent names: Index(['common_name', 'latin_binomial'], dtype='object')\n",
      "\tNew names: Index(['x', 'y'], dtype='object')\n",
      "Dropping row with empty cells:\n",
      "\tDropped 0 rows with empty cells.\n",
      "\tCleaning string sequences.\n",
      "\tUppercasing string sequences.\n",
      "Dropping sequences longer than the maxlen of 65:\n",
      "\tDropped 0 that exceeded the maximum sequence length.\n",
      "Dropping duplicate sequences:\n",
      "\tDropped 728 duplicate sequences.\n",
      "Done processing: ---------------------------------------\n",
      "<class 'pandas.core.frame.DataFrame'>\n",
      "RangeIndex: 728 entries, 0 to 727\n",
      "Data columns (total 2 columns):\n",
      " #   Column  Non-Null Count  Dtype \n",
      "---  ------  --------------  ----- \n",
      " 0   x       728 non-null    object\n",
      " 1   y       728 non-null    object\n",
      "dtypes: object(2)\n",
      "memory usage: 11.5+ KB\n",
      "None\n"
     ]
    }
   ],
   "source": [
    "common_2_latin = preprocessInput('../data/positive-unmapped-pairs-common-name-or-latin-binomial-copies.tsv', maxlen= MAXLEN, reflexive=True, balance = False, noise=None, sep='\\t')"
   ]
  },
  {
   "cell_type": "code",
   "execution_count": 12,
   "id": "ba6564f8",
   "metadata": {
    "scrolled": true
   },
   "outputs": [
    {
     "name": "stdout",
     "output_type": "stream",
     "text": [
      "<class 'pandas.core.frame.DataFrame'>\n",
      "RangeIndex: 10838 entries, 0 to 10837\n",
      "Data columns (total 2 columns):\n",
      " #   Column       Non-Null Count  Dtype \n",
      "---  ------       --------------  ----- \n",
      " 0   name         10838 non-null  object\n",
      " 1   common_name  199 non-null    object\n",
      "dtypes: object(2)\n",
      "memory usage: 169.5+ KB\n",
      "None\n",
      "Processing file: ----------------------------------------\n",
      "Renaming colums:\n",
      "\tCurrent names: Index(['name', 'common_name'], dtype='object')\n",
      "\tNew names: Index(['x', 'y'], dtype='object')\n",
      "Dropping row with empty cells:\n",
      "\tDropped 10639 rows with empty cells.\n",
      "\tCleaning string sequences.\n",
      "\tUppercasing string sequences.\n",
      "Dropping sequences longer than the maxlen of 65:\n",
      "\tDropped 0 that exceeded the maximum sequence length.\n",
      "Dropping duplicate sequences:\n",
      "\tDropped 0 duplicate sequences.\n",
      "Done processing: ---------------------------------------\n",
      "<class 'pandas.core.frame.DataFrame'>\n",
      "RangeIndex: 398 entries, 0 to 397\n",
      "Data columns (total 2 columns):\n",
      " #   Column  Non-Null Count  Dtype \n",
      "---  ------  --------------  ----- \n",
      " 0   x       398 non-null    object\n",
      " 1   y       398 non-null    object\n",
      "dtypes: object(2)\n",
      "memory usage: 6.3+ KB\n",
      "None\n"
     ]
    }
   ],
   "source": [
    "gsrs_2_common = preprocessInput('../data/positive-unmapped-pairs-gsrs-name-to-common-name.tsv', maxlen= MAXLEN, reflexive=True, balance = False, noise=None, sep='\\t')"
   ]
  },
  {
   "cell_type": "code",
   "execution_count": 13,
   "id": "1a88ac91",
   "metadata": {
    "scrolled": true
   },
   "outputs": [],
   "source": [
    "# vocab = pd.read_csv('../data/lb_to_common_names.csv')\n",
    "# vocab = vocab[['latin_binomial_clean','common_name_clean']].rename(columns={'latin_binomial_clean': \"x\", 'common_name_clean': \"y\"})\n",
    "# vocab.info()"
   ]
  },
  {
   "cell_type": "code",
   "execution_count": 14,
   "id": "5cee38c8",
   "metadata": {},
   "outputs": [],
   "source": [
    "equivalence_set = pd.concat([latin_2_common, common_2_latin, gsrs_2_common], ignore_index=True)\n",
    "equivalence_set.drop_duplicates(subset=['x', 'y'], inplace=True)"
   ]
  },
  {
   "cell_type": "code",
   "execution_count": 15,
   "id": "aa19d271",
   "metadata": {},
   "outputs": [
    {
     "data": {
      "text/html": [
       "<div>\n",
       "<style scoped>\n",
       "    .dataframe tbody tr th:only-of-type {\n",
       "        vertical-align: middle;\n",
       "    }\n",
       "\n",
       "    .dataframe tbody tr th {\n",
       "        vertical-align: top;\n",
       "    }\n",
       "\n",
       "    .dataframe thead th {\n",
       "        text-align: right;\n",
       "    }\n",
       "</style>\n",
       "<table border=\"1\" class=\"dataframe\">\n",
       "  <thead>\n",
       "    <tr style=\"text-align: right;\">\n",
       "      <th></th>\n",
       "      <th>x</th>\n",
       "      <th>y</th>\n",
       "    </tr>\n",
       "  </thead>\n",
       "  <tbody>\n",
       "    <tr>\n",
       "      <th>2230</th>\n",
       "      <td>CRANBERRY</td>\n",
       "      <td>VACCINIUM MACROCARPON</td>\n",
       "    </tr>\n",
       "  </tbody>\n",
       "</table>\n",
       "</div>"
      ],
      "text/plain": [
       "              x                      y\n",
       "2230  CRANBERRY  VACCINIUM MACROCARPON"
      ]
     },
     "execution_count": 15,
     "metadata": {},
     "output_type": "execute_result"
    }
   ],
   "source": [
    "equivalence_set[equivalence_set[\"x\"] == \"CRANBERRY\"]"
   ]
  },
  {
   "cell_type": "markdown",
   "id": "4ba7cdd8",
   "metadata": {},
   "source": [
    "# Evaluating on test data - NP names only"
   ]
  },
  {
   "cell_type": "markdown",
   "id": "5fd04131",
   "metadata": {},
   "source": [
    "# Evaluation of drug name predictions\n",
    "----------------------------\n",
    "### Find ranks 1-5 from the predicted and fuzzy matches for the matching cases in the test data"
   ]
  },
  {
   "cell_type": "markdown",
   "id": "684b8088",
   "metadata": {},
   "source": [
    "# Create a sample from the test set to evaluate"
   ]
  },
  {
   "cell_type": "code",
   "execution_count": 16,
   "id": "21bba86e",
   "metadata": {},
   "outputs": [],
   "source": [
    "# positive_pairs = matches.sample(n=100)\n",
    "positive_pairs = test.loc[test[\"Match\"] == 1].sample(n=1000)"
   ]
  },
  {
   "cell_type": "code",
   "execution_count": 17,
   "id": "cfdbf207",
   "metadata": {},
   "outputs": [
    {
     "data": {
      "text/plain": [
       "1000"
      ]
     },
     "execution_count": 17,
     "metadata": {},
     "output_type": "execute_result"
    }
   ],
   "source": [
    "positive_pairs.index.size"
   ]
  },
  {
   "cell_type": "markdown",
   "id": "68af1b5a",
   "metadata": {},
   "source": [
    "--------------------------------------"
   ]
  },
  {
   "cell_type": "code",
   "execution_count": 18,
   "id": "8831ade1",
   "metadata": {},
   "outputs": [
    {
     "data": {
      "text/html": [
       "<div>\n",
       "<style scoped>\n",
       "    .dataframe tbody tr th:only-of-type {\n",
       "        vertical-align: middle;\n",
       "    }\n",
       "\n",
       "    .dataframe tbody tr th {\n",
       "        vertical-align: top;\n",
       "    }\n",
       "\n",
       "    .dataframe thead th {\n",
       "        text-align: right;\n",
       "    }\n",
       "</style>\n",
       "<table border=\"1\" class=\"dataframe\">\n",
       "  <thead>\n",
       "    <tr style=\"text-align: right;\">\n",
       "      <th></th>\n",
       "      <th>x</th>\n",
       "      <th>y</th>\n",
       "      <th>Processed_x</th>\n",
       "      <th>Processed_y</th>\n",
       "      <th>Match</th>\n",
       "      <th>Distance</th>\n",
       "    </tr>\n",
       "  </thead>\n",
       "  <tbody>\n",
       "    <tr>\n",
       "      <th>2100363</th>\n",
       "      <td>ORQCROTMALRNMIAN PYFALLIDA</td>\n",
       "      <td>CROTALARIA PALLIDA</td>\n",
       "      <td>[15, 18, 17, 3, 18, 15, 20, 13, 1, 12, 18, 14,...</td>\n",
       "      <td>[3, 18, 15, 20, 1, 12, 1, 18, 9, 1, 27, 16, 1,...</td>\n",
       "      <td>1</td>\n",
       "      <td>0</td>\n",
       "    </tr>\n",
       "    <tr>\n",
       "      <th>2233524</th>\n",
       "      <td>LAORPRPAHCO</td>\n",
       "      <td>HANDROANTHUS HEPTAPHYLLUS</td>\n",
       "      <td>[12, 1, 15, 18, 16, 18, 16, 1, 8, 3, 15, 0, 0,...</td>\n",
       "      <td>[8, 1, 14, 4, 18, 15, 1, 14, 20, 8, 21, 19, 27...</td>\n",
       "      <td>1</td>\n",
       "      <td>0</td>\n",
       "    </tr>\n",
       "    <tr>\n",
       "      <th>2194299</th>\n",
       "      <td>SDMYYTS CPOGMOU S</td>\n",
       "      <td>MYRTUS COMMUNIS</td>\n",
       "      <td>[19, 4, 13, 25, 25, 20, 19, 27, 3, 16, 15, 7, ...</td>\n",
       "      <td>[13, 25, 18, 20, 21, 19, 27, 3, 15, 13, 13, 21...</td>\n",
       "      <td>1</td>\n",
       "      <td>0</td>\n",
       "    </tr>\n",
       "    <tr>\n",
       "      <th>1615803</th>\n",
       "      <td>EOTDESEAL</td>\n",
       "      <td>HYDRASTIS CANADENSIS WHOLE</td>\n",
       "      <td>[5, 15, 20, 4, 5, 19, 5, 1, 12, 0, 0, 0, 0, 0,...</td>\n",
       "      <td>[8, 25, 4, 18, 1, 19, 20, 9, 19, 27, 3, 1, 14,...</td>\n",
       "      <td>1</td>\n",
       "      <td>0</td>\n",
       "    </tr>\n",
       "    <tr>\n",
       "      <th>465810</th>\n",
       "      <td>UNJIPEQRUCV RGINIAA</td>\n",
       "      <td>POTLOODSEDER</td>\n",
       "      <td>[21, 14, 10, 9, 16, 5, 17, 18, 21, 3, 22, 27, ...</td>\n",
       "      <td>[16, 15, 20, 12, 15, 15, 4, 19, 5, 4, 5, 18, 0...</td>\n",
       "      <td>1</td>\n",
       "      <td>0</td>\n",
       "    </tr>\n",
       "  </tbody>\n",
       "</table>\n",
       "</div>"
      ],
      "text/plain": [
       "                                  x                           y  \\\n",
       "2100363  ORQCROTMALRNMIAN PYFALLIDA          CROTALARIA PALLIDA   \n",
       "2233524                 LAORPRPAHCO   HANDROANTHUS HEPTAPHYLLUS   \n",
       "2194299           SDMYYTS CPOGMOU S             MYRTUS COMMUNIS   \n",
       "1615803                   EOTDESEAL  HYDRASTIS CANADENSIS WHOLE   \n",
       "465810          UNJIPEQRUCV RGINIAA                POTLOODSEDER   \n",
       "\n",
       "                                               Processed_x  \\\n",
       "2100363  [15, 18, 17, 3, 18, 15, 20, 13, 1, 12, 18, 14,...   \n",
       "2233524  [12, 1, 15, 18, 16, 18, 16, 1, 8, 3, 15, 0, 0,...   \n",
       "2194299  [19, 4, 13, 25, 25, 20, 19, 27, 3, 16, 15, 7, ...   \n",
       "1615803  [5, 15, 20, 4, 5, 19, 5, 1, 12, 0, 0, 0, 0, 0,...   \n",
       "465810   [21, 14, 10, 9, 16, 5, 17, 18, 21, 3, 22, 27, ...   \n",
       "\n",
       "                                               Processed_y  Match  Distance  \n",
       "2100363  [3, 18, 15, 20, 1, 12, 1, 18, 9, 1, 27, 16, 1,...      1         0  \n",
       "2233524  [8, 1, 14, 4, 18, 15, 1, 14, 20, 8, 21, 19, 27...      1         0  \n",
       "2194299  [13, 25, 18, 20, 21, 19, 27, 3, 15, 13, 13, 21...      1         0  \n",
       "1615803  [8, 25, 4, 18, 1, 19, 20, 9, 19, 27, 3, 1, 14,...      1         0  \n",
       "465810   [16, 15, 20, 12, 15, 15, 4, 19, 5, 4, 5, 18, 0...      1         0  "
      ]
     },
     "execution_count": 18,
     "metadata": {},
     "output_type": "execute_result"
    }
   ],
   "source": [
    "positive_pairs.head()"
   ]
  },
  {
   "cell_type": "markdown",
   "id": "305b3a0b",
   "metadata": {},
   "source": [
    "# Structure to contain the results"
   ]
  },
  {
   "cell_type": "code",
   "execution_count": 19,
   "id": "4ec14511",
   "metadata": {},
   "outputs": [],
   "source": [
    "results = pd.DataFrame(index = ['Exact', 'Equivalent'], columns =['Siamese model', 'Levenshtein','Gesalt'])"
   ]
  },
  {
   "cell_type": "markdown",
   "id": "ea208cb0",
   "metadata": {},
   "source": [
    "----------------------------------------------------"
   ]
  },
  {
   "cell_type": "markdown",
   "id": "4dde0323",
   "metadata": {},
   "source": [
    "# Predicted Match MRR Evaluation"
   ]
  },
  {
   "cell_type": "code",
   "execution_count": 20,
   "id": "8a7fa8a0",
   "metadata": {},
   "outputs": [
    {
     "name": "stderr",
     "output_type": "stream",
     "text": [
      "2022-10-27 15:06:47.775038: W tensorflow/compiler/jit/mark_for_compilation_pass.cc:1780] (One-time warning): Not using XLA:CPU for cluster.\n",
      "\n",
      "If you want XLA:CPU, do one of the following:\n",
      "\n",
      " - set the TF_XLA_FLAGS to include \"--tf_xla_cpu_global_jit\", or\n",
      " - set cpu_global_jit to true on this session's OptimizerOptions, or\n",
      " - use experimental_jit_scope, or\n",
      " - use tf.function(jit_compile=True).\n",
      "\n",
      "To confirm that XLA is active, pass --vmodule=xla_compilation_cache=1 (as a\n",
      "proper command-line flag, not via TF_XLA_FLAGS).\n",
      "2022-10-27 15:06:50.242605: I tensorflow/compiler/xla/service/service.cc:173] XLA service 0x24d86670 initialized for platform CUDA (this does not guarantee that XLA will be used). Devices:\n",
      "2022-10-27 15:06:50.242627: I tensorflow/compiler/xla/service/service.cc:181]   StreamExecutor device (0): NVIDIA GeForce RTX 2070 with Max-Q Design, Compute Capability 7.5\n",
      "2022-10-27 15:06:50.246741: I tensorflow/compiler/mlir/tensorflow/utils/dump_mlir_util.cc:268] disabling MLIR crash reproducer, set env var `MLIR_CRASH_REPRODUCER_DIRECTORY` to enable.\n",
      "2022-10-27 15:06:50.301292: I tensorflow/core/platform/default/subprocess.cc:304] Start cannot spawn child process: No such file or directory\n",
      "2022-10-27 15:06:50.340978: I tensorflow/compiler/jit/xla_compilation_cache.cc:476] Compiled cluster using XLA!  This line is logged at most once for the lifetime of the process.\n",
      "2022-10-27 15:06:50.966295: I tensorflow/stream_executor/cuda/cuda_dnn.cc:384] Loaded cuDNN version 8600\n"
     ]
    }
   ],
   "source": [
    "Predicted = find_Model_ranks(model, df=positive_pairs, targets = dUnique_df, equivalence_set = equivalence_set, ranks=20, find_related_rank=True, report_distances=False)"
   ]
  },
  {
   "cell_type": "code",
   "execution_count": 21,
   "id": "674f1a85",
   "metadata": {},
   "outputs": [
    {
     "data": {
      "text/html": [
       "<div>\n",
       "<style scoped>\n",
       "    .dataframe tbody tr th:only-of-type {\n",
       "        vertical-align: middle;\n",
       "    }\n",
       "\n",
       "    .dataframe tbody tr th {\n",
       "        vertical-align: top;\n",
       "    }\n",
       "\n",
       "    .dataframe thead th {\n",
       "        text-align: right;\n",
       "    }\n",
       "</style>\n",
       "<table border=\"1\" class=\"dataframe\">\n",
       "  <thead>\n",
       "    <tr style=\"text-align: right;\">\n",
       "      <th></th>\n",
       "      <th>x</th>\n",
       "      <th>y</th>\n",
       "      <th>Processed_x</th>\n",
       "      <th>Processed_y</th>\n",
       "      <th>Match</th>\n",
       "      <th>Distance</th>\n",
       "      <th>rank1</th>\n",
       "      <th>rank2</th>\n",
       "      <th>rank3</th>\n",
       "      <th>rank4</th>\n",
       "      <th>...</th>\n",
       "      <th>rank13</th>\n",
       "      <th>rank14</th>\n",
       "      <th>rank15</th>\n",
       "      <th>rank16</th>\n",
       "      <th>rank17</th>\n",
       "      <th>rank18</th>\n",
       "      <th>rank19</th>\n",
       "      <th>rank20</th>\n",
       "      <th>exact_rank</th>\n",
       "      <th>equivalent_rank</th>\n",
       "    </tr>\n",
       "  </thead>\n",
       "  <tbody>\n",
       "    <tr>\n",
       "      <th>1396394</th>\n",
       "      <td>CKLEUWAS</td>\n",
       "      <td>INDIAN BORAGE WHOLE</td>\n",
       "      <td>[3, 11, 12, 5, 21, 23, 1, 19, 0, 0, 0, 0, 0, 0...</td>\n",
       "      <td>[9, 14, 4, 9, 1, 14, 27, 2, 15, 18, 1, 7, 5, 2...</td>\n",
       "      <td>1</td>\n",
       "      <td>0</td>\n",
       "      <td>CLEAVERS</td>\n",
       "      <td>VITEX AGNUS</td>\n",
       "      <td>COLEUS</td>\n",
       "      <td>ELECAMPANE</td>\n",
       "      <td>...</td>\n",
       "      <td>ELEUTHERO</td>\n",
       "      <td>PLECTRANTHUS AMBOINICUS LOUR SPRENG</td>\n",
       "      <td>COUCHGRASS</td>\n",
       "      <td>LOCUSTBEAN</td>\n",
       "      <td>COCOGRASS</td>\n",
       "      <td>CELANDINE</td>\n",
       "      <td>BLACK SAMPSON</td>\n",
       "      <td>LENTISCUS</td>\n",
       "      <td>inf</td>\n",
       "      <td>3.0</td>\n",
       "    </tr>\n",
       "    <tr>\n",
       "      <th>1872869</th>\n",
       "      <td>SLOIDGAOUS  PLEVX</td>\n",
       "      <td>SOLIDAGO SIMPLEX</td>\n",
       "      <td>[19, 12, 15, 9, 4, 7, 1, 15, 21, 19, 27, 27, 1...</td>\n",
       "      <td>[19, 15, 12, 9, 4, 1, 7, 15, 27, 19, 9, 13, 16...</td>\n",
       "      <td>1</td>\n",
       "      <td>0</td>\n",
       "      <td>ALLIUM CEPA</td>\n",
       "      <td>SHALLOT</td>\n",
       "      <td>SOLIDAGO SIMPLEX</td>\n",
       "      <td>SPOONLEAF YUCCA</td>\n",
       "      <td>...</td>\n",
       "      <td>GUELDER ROSE</td>\n",
       "      <td>EPIMEDIUM PUBESCENS</td>\n",
       "      <td>SPANISHNEEDLES</td>\n",
       "      <td>MORINGA OLEIFERA</td>\n",
       "      <td>MARSHMILKWEED</td>\n",
       "      <td>ROBINIA PSEUDOACACIA</td>\n",
       "      <td>SOW THISTLE</td>\n",
       "      <td>SALIX LUCIDA</td>\n",
       "      <td>3.0</td>\n",
       "      <td>3.0</td>\n",
       "    </tr>\n",
       "    <tr>\n",
       "      <th>852849</th>\n",
       "      <td>GARDENKHELIOTBRPE</td>\n",
       "      <td>GARDENHELIOTROPE</td>\n",
       "      <td>[7, 1, 18, 4, 5, 14, 11, 8, 5, 12, 9, 15, 20, ...</td>\n",
       "      <td>[7, 1, 18, 4, 5, 14, 8, 5, 12, 9, 15, 20, 18, ...</td>\n",
       "      <td>1</td>\n",
       "      <td>0</td>\n",
       "      <td>GARDENHELIOTROPE</td>\n",
       "      <td>GARDEN VALERIAN</td>\n",
       "      <td>GOATSRUE</td>\n",
       "      <td>GALEGA OFFICINALIS</td>\n",
       "      <td>...</td>\n",
       "      <td>HAIRY BEGGARTICKS</td>\n",
       "      <td>SPREADING PELLITORY</td>\n",
       "      <td>GANODERMA</td>\n",
       "      <td>GARDEN SAGE</td>\n",
       "      <td>CHINESE LICORICE</td>\n",
       "      <td>PARIETARIA JUDAICA</td>\n",
       "      <td>GREEKCLOVER</td>\n",
       "      <td>GREEK HAY</td>\n",
       "      <td>1.0</td>\n",
       "      <td>1.0</td>\n",
       "    </tr>\n",
       "    <tr>\n",
       "      <th>908479</th>\n",
       "      <td>BABLSMPNR</td>\n",
       "      <td>BALSAMPEAR</td>\n",
       "      <td>[2, 1, 2, 12, 19, 13, 16, 14, 18, 0, 0, 0, 0, ...</td>\n",
       "      <td>[2, 1, 12, 19, 1, 13, 16, 5, 1, 18, 0, 0, 0, 0...</td>\n",
       "      <td>1</td>\n",
       "      <td>0</td>\n",
       "      <td>BALSAMPEAR</td>\n",
       "      <td>BALLOTA NIGRA</td>\n",
       "      <td>BLACK HOREHOUND</td>\n",
       "      <td>BALSAMAPPLE</td>\n",
       "      <td>...</td>\n",
       "      <td>LOBARIA PULMONARIA</td>\n",
       "      <td>MOMORDICA CHARANTIA</td>\n",
       "      <td>BEEPLANT</td>\n",
       "      <td>HOLLY MAHONIA</td>\n",
       "      <td>ROSA CANINA</td>\n",
       "      <td>BONESET</td>\n",
       "      <td>BACOPA</td>\n",
       "      <td>BAYBERRY</td>\n",
       "      <td>1.0</td>\n",
       "      <td>1.0</td>\n",
       "    </tr>\n",
       "    <tr>\n",
       "      <th>1524199</th>\n",
       "      <td>JNANA ISPUGANDA WHDL</td>\n",
       "      <td>MAJANA SUGANDA WHOLE</td>\n",
       "      <td>[10, 14, 1, 14, 1, 27, 9, 19, 16, 21, 7, 1, 14...</td>\n",
       "      <td>[13, 1, 10, 1, 14, 1, 27, 19, 21, 7, 1, 14, 4,...</td>\n",
       "      <td>1</td>\n",
       "      <td>0</td>\n",
       "      <td>MAJANA SUGANDA WHOLE</td>\n",
       "      <td>SENNA HOC</td>\n",
       "      <td>SENNA ALEXANDRINA WHODD</td>\n",
       "      <td>INDIAN SENNA WHOLE</td>\n",
       "      <td>...</td>\n",
       "      <td>TINNEVELLY SENNA WHOLE</td>\n",
       "      <td>CASSIA SENNA WHOLE</td>\n",
       "      <td>SANA WHOLE</td>\n",
       "      <td>HINDISANA WHOLE</td>\n",
       "      <td>COFFEE SENNA</td>\n",
       "      <td>ALEXANDRIAN SENNA WHOLE</td>\n",
       "      <td>BHUIKHAKHASA WHOLE</td>\n",
       "      <td>AFRIKANSKAYA SENNA WHOLE</td>\n",
       "      <td>1.0</td>\n",
       "      <td>1.0</td>\n",
       "    </tr>\n",
       "  </tbody>\n",
       "</table>\n",
       "<p>5 rows × 28 columns</p>\n",
       "</div>"
      ],
      "text/plain": [
       "                            x                     y  \\\n",
       "1396394              CKLEUWAS   INDIAN BORAGE WHOLE   \n",
       "1872869     SLOIDGAOUS  PLEVX      SOLIDAGO SIMPLEX   \n",
       "852849      GARDENKHELIOTBRPE      GARDENHELIOTROPE   \n",
       "908479              BABLSMPNR            BALSAMPEAR   \n",
       "1524199  JNANA ISPUGANDA WHDL  MAJANA SUGANDA WHOLE   \n",
       "\n",
       "                                               Processed_x  \\\n",
       "1396394  [3, 11, 12, 5, 21, 23, 1, 19, 0, 0, 0, 0, 0, 0...   \n",
       "1872869  [19, 12, 15, 9, 4, 7, 1, 15, 21, 19, 27, 27, 1...   \n",
       "852849   [7, 1, 18, 4, 5, 14, 11, 8, 5, 12, 9, 15, 20, ...   \n",
       "908479   [2, 1, 2, 12, 19, 13, 16, 14, 18, 0, 0, 0, 0, ...   \n",
       "1524199  [10, 14, 1, 14, 1, 27, 9, 19, 16, 21, 7, 1, 14...   \n",
       "\n",
       "                                               Processed_y  Match  Distance  \\\n",
       "1396394  [9, 14, 4, 9, 1, 14, 27, 2, 15, 18, 1, 7, 5, 2...      1         0   \n",
       "1872869  [19, 15, 12, 9, 4, 1, 7, 15, 27, 19, 9, 13, 16...      1         0   \n",
       "852849   [7, 1, 18, 4, 5, 14, 8, 5, 12, 9, 15, 20, 18, ...      1         0   \n",
       "908479   [2, 1, 12, 19, 1, 13, 16, 5, 1, 18, 0, 0, 0, 0...      1         0   \n",
       "1524199  [13, 1, 10, 1, 14, 1, 27, 19, 21, 7, 1, 14, 4,...      1         0   \n",
       "\n",
       "                        rank1            rank2                    rank3  \\\n",
       "1396394              CLEAVERS      VITEX AGNUS                   COLEUS   \n",
       "1872869           ALLIUM CEPA          SHALLOT         SOLIDAGO SIMPLEX   \n",
       "852849       GARDENHELIOTROPE  GARDEN VALERIAN                 GOATSRUE   \n",
       "908479             BALSAMPEAR    BALLOTA NIGRA          BLACK HOREHOUND   \n",
       "1524199  MAJANA SUGANDA WHOLE        SENNA HOC  SENNA ALEXANDRINA WHODD   \n",
       "\n",
       "                      rank4  ...                  rank13  \\\n",
       "1396394          ELECAMPANE  ...               ELEUTHERO   \n",
       "1872869     SPOONLEAF YUCCA  ...            GUELDER ROSE   \n",
       "852849   GALEGA OFFICINALIS  ...       HAIRY BEGGARTICKS   \n",
       "908479          BALSAMAPPLE  ...      LOBARIA PULMONARIA   \n",
       "1524199  INDIAN SENNA WHOLE  ...  TINNEVELLY SENNA WHOLE   \n",
       "\n",
       "                                      rank14          rank15  \\\n",
       "1396394  PLECTRANTHUS AMBOINICUS LOUR SPRENG      COUCHGRASS   \n",
       "1872869                  EPIMEDIUM PUBESCENS  SPANISHNEEDLES   \n",
       "852849                   SPREADING PELLITORY       GANODERMA   \n",
       "908479                   MOMORDICA CHARANTIA        BEEPLANT   \n",
       "1524199                   CASSIA SENNA WHOLE      SANA WHOLE   \n",
       "\n",
       "                   rank16            rank17                   rank18  \\\n",
       "1396394        LOCUSTBEAN         COCOGRASS                CELANDINE   \n",
       "1872869  MORINGA OLEIFERA     MARSHMILKWEED     ROBINIA PSEUDOACACIA   \n",
       "852849        GARDEN SAGE  CHINESE LICORICE       PARIETARIA JUDAICA   \n",
       "908479      HOLLY MAHONIA       ROSA CANINA                  BONESET   \n",
       "1524199   HINDISANA WHOLE      COFFEE SENNA  ALEXANDRIAN SENNA WHOLE   \n",
       "\n",
       "                     rank19                    rank20 exact_rank  \\\n",
       "1396394       BLACK SAMPSON                 LENTISCUS        inf   \n",
       "1872869         SOW THISTLE              SALIX LUCIDA        3.0   \n",
       "852849          GREEKCLOVER                 GREEK HAY        1.0   \n",
       "908479               BACOPA                  BAYBERRY        1.0   \n",
       "1524199  BHUIKHAKHASA WHOLE  AFRIKANSKAYA SENNA WHOLE        1.0   \n",
       "\n",
       "        equivalent_rank  \n",
       "1396394             3.0  \n",
       "1872869             3.0  \n",
       "852849              1.0  \n",
       "908479              1.0  \n",
       "1524199             1.0  \n",
       "\n",
       "[5 rows x 28 columns]"
      ]
     },
     "execution_count": 21,
     "metadata": {},
     "output_type": "execute_result"
    }
   ],
   "source": [
    "Predicted.sample(n=5)"
   ]
  },
  {
   "cell_type": "code",
   "execution_count": 22,
   "id": "6991befc",
   "metadata": {},
   "outputs": [
    {
     "data": {
      "text/html": [
       "<div>\n",
       "<style scoped>\n",
       "    .dataframe tbody tr th:only-of-type {\n",
       "        vertical-align: middle;\n",
       "    }\n",
       "\n",
       "    .dataframe tbody tr th {\n",
       "        vertical-align: top;\n",
       "    }\n",
       "\n",
       "    .dataframe thead th {\n",
       "        text-align: right;\n",
       "    }\n",
       "</style>\n",
       "<table border=\"1\" class=\"dataframe\">\n",
       "  <thead>\n",
       "    <tr style=\"text-align: right;\">\n",
       "      <th></th>\n",
       "      <th>exact_reciprocal_rank</th>\n",
       "      <th>equivalent_reciprocal_rank</th>\n",
       "    </tr>\n",
       "  </thead>\n",
       "  <tbody>\n",
       "    <tr>\n",
       "      <th>count</th>\n",
       "      <td>1000.000000</td>\n",
       "      <td>1000.000000</td>\n",
       "    </tr>\n",
       "    <tr>\n",
       "      <th>mean</th>\n",
       "      <td>0.437918</td>\n",
       "      <td>0.672240</td>\n",
       "    </tr>\n",
       "    <tr>\n",
       "      <th>std</th>\n",
       "      <td>0.415778</td>\n",
       "      <td>0.408446</td>\n",
       "    </tr>\n",
       "    <tr>\n",
       "      <th>min</th>\n",
       "      <td>0.000000</td>\n",
       "      <td>0.000000</td>\n",
       "    </tr>\n",
       "    <tr>\n",
       "      <th>25%</th>\n",
       "      <td>0.062500</td>\n",
       "      <td>0.250000</td>\n",
       "    </tr>\n",
       "    <tr>\n",
       "      <th>50%</th>\n",
       "      <td>0.250000</td>\n",
       "      <td>1.000000</td>\n",
       "    </tr>\n",
       "    <tr>\n",
       "      <th>75%</th>\n",
       "      <td>1.000000</td>\n",
       "      <td>1.000000</td>\n",
       "    </tr>\n",
       "    <tr>\n",
       "      <th>max</th>\n",
       "      <td>1.000000</td>\n",
       "      <td>1.000000</td>\n",
       "    </tr>\n",
       "  </tbody>\n",
       "</table>\n",
       "</div>"
      ],
      "text/plain": [
       "       exact_reciprocal_rank  equivalent_reciprocal_rank\n",
       "count            1000.000000                 1000.000000\n",
       "mean                0.437918                    0.672240\n",
       "std                 0.415778                    0.408446\n",
       "min                 0.000000                    0.000000\n",
       "25%                 0.062500                    0.250000\n",
       "50%                 0.250000                    1.000000\n",
       "75%                 1.000000                    1.000000\n",
       "max                 1.000000                    1.000000"
      ]
     },
     "execution_count": 22,
     "metadata": {},
     "output_type": "execute_result"
    }
   ],
   "source": [
    "Models_mrr = Predicted.loc[:,['x', 'exact_rank', 'equivalent_rank']]\n",
    "Models_mrr.loc[:,'exact_reciprocal_rank'] = 1/Models_mrr.loc[:, 'exact_rank']\n",
    "Models_mrr.loc[:,'equivalent_reciprocal_rank'] = 1/Models_mrr.loc[:, 'equivalent_rank']\n",
    "Models_mrr[['exact_reciprocal_rank', 'equivalent_reciprocal_rank']].describe()"
   ]
  },
  {
   "cell_type": "code",
   "execution_count": 23,
   "id": "babb2c7d",
   "metadata": {},
   "outputs": [],
   "source": [
    "#get median and stdev\n",
    "# Models_mrr['exact_rank'].median(), Models_mrr['exact_rank'].std()"
   ]
  },
  {
   "cell_type": "code",
   "execution_count": 24,
   "id": "00fee30d",
   "metadata": {},
   "outputs": [],
   "source": [
    "#get median and stdev\n",
    "# Models_mrr['equivalent_rank'].median(), Models_mrr['equivalent_rank'].std()"
   ]
  },
  {
   "cell_type": "code",
   "execution_count": 25,
   "id": "c00accdc",
   "metadata": {},
   "outputs": [],
   "source": [
    "# results.loc['Exact', 'Siamese model'] = 1/Models_mrr.index.size * Models_mrr['exact_reciprocal_rank'].sum()"
   ]
  },
  {
   "cell_type": "code",
   "execution_count": 26,
   "id": "735ba93d",
   "metadata": {},
   "outputs": [],
   "source": [
    "# results.loc['Equivalent', 'Siamese model'] = 1/Models_mrr.index.size * Models_mrr['equivalent_reciprocal_rank'].sum()"
   ]
  },
  {
   "cell_type": "code",
   "execution_count": 27,
   "id": "85a41b27",
   "metadata": {},
   "outputs": [],
   "source": [
    "results.loc['Exact', 'Siamese model'] = Models_mrr[['exact_reciprocal_rank', 'equivalent_reciprocal_rank']].describe().loc[\"mean\"][0]"
   ]
  },
  {
   "cell_type": "code",
   "execution_count": 28,
   "id": "0d726708",
   "metadata": {},
   "outputs": [],
   "source": [
    "results.loc['Exact_std', 'Siamese model'] = Models_mrr[['exact_reciprocal_rank', 'equivalent_reciprocal_rank']].describe().loc[\"std\"][0]"
   ]
  },
  {
   "cell_type": "code",
   "execution_count": 29,
   "id": "ca83b54d",
   "metadata": {},
   "outputs": [],
   "source": [
    "results.loc['Equivalent', 'Siamese model'] = Models_mrr[['exact_reciprocal_rank', 'equivalent_reciprocal_rank']].describe().loc[\"mean\"][1]"
   ]
  },
  {
   "cell_type": "code",
   "execution_count": 30,
   "id": "3b4037e9",
   "metadata": {},
   "outputs": [],
   "source": [
    "results.loc['Equivalent_std', 'Siamese model'] = Models_mrr[['exact_reciprocal_rank', 'equivalent_reciprocal_rank']].describe().loc[\"std\"][1]"
   ]
  },
  {
   "cell_type": "code",
   "execution_count": 31,
   "id": "baee6451",
   "metadata": {},
   "outputs": [
    {
     "data": {
      "text/html": [
       "<div>\n",
       "<style scoped>\n",
       "    .dataframe tbody tr th:only-of-type {\n",
       "        vertical-align: middle;\n",
       "    }\n",
       "\n",
       "    .dataframe tbody tr th {\n",
       "        vertical-align: top;\n",
       "    }\n",
       "\n",
       "    .dataframe thead th {\n",
       "        text-align: right;\n",
       "    }\n",
       "</style>\n",
       "<table border=\"1\" class=\"dataframe\">\n",
       "  <thead>\n",
       "    <tr style=\"text-align: right;\">\n",
       "      <th></th>\n",
       "      <th>Siamese model</th>\n",
       "      <th>Levenshtein</th>\n",
       "      <th>Gesalt</th>\n",
       "    </tr>\n",
       "  </thead>\n",
       "  <tbody>\n",
       "    <tr>\n",
       "      <th>Exact</th>\n",
       "      <td>0.437918</td>\n",
       "      <td>NaN</td>\n",
       "      <td>NaN</td>\n",
       "    </tr>\n",
       "    <tr>\n",
       "      <th>Equivalent</th>\n",
       "      <td>0.67224</td>\n",
       "      <td>NaN</td>\n",
       "      <td>NaN</td>\n",
       "    </tr>\n",
       "    <tr>\n",
       "      <th>Exact_std</th>\n",
       "      <td>0.415778</td>\n",
       "      <td>NaN</td>\n",
       "      <td>NaN</td>\n",
       "    </tr>\n",
       "    <tr>\n",
       "      <th>Equivalent_std</th>\n",
       "      <td>0.408446</td>\n",
       "      <td>NaN</td>\n",
       "      <td>NaN</td>\n",
       "    </tr>\n",
       "  </tbody>\n",
       "</table>\n",
       "</div>"
      ],
      "text/plain": [
       "               Siamese model Levenshtein Gesalt\n",
       "Exact               0.437918         NaN    NaN\n",
       "Equivalent           0.67224         NaN    NaN\n",
       "Exact_std           0.415778         NaN    NaN\n",
       "Equivalent_std      0.408446         NaN    NaN"
      ]
     },
     "execution_count": 31,
     "metadata": {},
     "output_type": "execute_result"
    }
   ],
   "source": [
    "results"
   ]
  },
  {
   "cell_type": "markdown",
   "id": "562db835",
   "metadata": {},
   "source": [
    "--------------------------------------"
   ]
  },
  {
   "cell_type": "markdown",
   "id": "75bbde8a",
   "metadata": {},
   "source": [
    "# Comparison with fuzzy string match"
   ]
  },
  {
   "cell_type": "markdown",
   "id": "77b00f22",
   "metadata": {},
   "source": [
    "# Fuzzy Levenshtein Match MRR Evaluation"
   ]
  },
  {
   "cell_type": "code",
   "execution_count": 32,
   "id": "d4b7614f",
   "metadata": {},
   "outputs": [],
   "source": [
    "Levenshtein = find_Levenshtein_ranks(positive_pairs, targets = dUnique_df, equivalence_set = equivalence_set, ranks=20, find_related_rank=True, report_distances=False)"
   ]
  },
  {
   "cell_type": "code",
   "execution_count": 33,
   "id": "b1551d0d",
   "metadata": {},
   "outputs": [
    {
     "data": {
      "text/html": [
       "<div>\n",
       "<style scoped>\n",
       "    .dataframe tbody tr th:only-of-type {\n",
       "        vertical-align: middle;\n",
       "    }\n",
       "\n",
       "    .dataframe tbody tr th {\n",
       "        vertical-align: top;\n",
       "    }\n",
       "\n",
       "    .dataframe thead th {\n",
       "        text-align: right;\n",
       "    }\n",
       "</style>\n",
       "<table border=\"1\" class=\"dataframe\">\n",
       "  <thead>\n",
       "    <tr style=\"text-align: right;\">\n",
       "      <th></th>\n",
       "      <th>x</th>\n",
       "      <th>y</th>\n",
       "      <th>Processed_x</th>\n",
       "      <th>Processed_y</th>\n",
       "      <th>Match</th>\n",
       "      <th>Distance</th>\n",
       "      <th>rank1</th>\n",
       "      <th>rank2</th>\n",
       "      <th>rank3</th>\n",
       "      <th>rank4</th>\n",
       "      <th>...</th>\n",
       "      <th>rank13</th>\n",
       "      <th>rank14</th>\n",
       "      <th>rank15</th>\n",
       "      <th>rank16</th>\n",
       "      <th>rank17</th>\n",
       "      <th>rank18</th>\n",
       "      <th>rank19</th>\n",
       "      <th>rank20</th>\n",
       "      <th>exact_rank</th>\n",
       "      <th>equivalent_rank</th>\n",
       "    </tr>\n",
       "  </thead>\n",
       "  <tbody>\n",
       "    <tr>\n",
       "      <th>42083</th>\n",
       "      <td>ST JOHS CBREHD</td>\n",
       "      <td>CERATONIA SILIQUA</td>\n",
       "      <td>[19, 20, 27, 10, 15, 8, 19, 27, 3, 2, 18, 5, 8...</td>\n",
       "      <td>[3, 5, 18, 1, 20, 15, 14, 9, 1, 27, 19, 9, 12,...</td>\n",
       "      <td>1</td>\n",
       "      <td>0</td>\n",
       "      <td>ST JOHNS BREAD</td>\n",
       "      <td>ST JOHNSBREAD</td>\n",
       "      <td>ST JOHNS WORT</td>\n",
       "      <td>ST JOHNSWORT</td>\n",
       "      <td>...</td>\n",
       "      <td>GREENSTEM JOEPYEWEED</td>\n",
       "      <td>COPTIS COPTIS CHINENSIS HOC</td>\n",
       "      <td>DIANTHUS CRENATUS</td>\n",
       "      <td>SONCHUS OLERACEUS</td>\n",
       "      <td>BLACK STINKING HOREHOUND</td>\n",
       "      <td>SWEET FALSE CHAMOMILE</td>\n",
       "      <td>QUERCUS CERRIS</td>\n",
       "      <td>ATRACTYLODES MACROCEPHALA</td>\n",
       "      <td>inf</td>\n",
       "      <td>1.0</td>\n",
       "    </tr>\n",
       "    <tr>\n",
       "      <th>950307</th>\n",
       "      <td>BLUNTLE VDNZVQELAMQSOIN</td>\n",
       "      <td>BLUNTLEAVED EVERLASTING</td>\n",
       "      <td>[2, 12, 21, 14, 20, 12, 5, 27, 22, 4, 14, 26, ...</td>\n",
       "      <td>[2, 12, 21, 14, 20, 12, 5, 1, 22, 5, 4, 27, 5,...</td>\n",
       "      <td>1</td>\n",
       "      <td>0</td>\n",
       "      <td>BLUNTLEAVED EVERLASTING</td>\n",
       "      <td>SCHOENOPLECTUS TABERNAEMONTANI</td>\n",
       "      <td>AILANTHUS FLAVESCENS WHOLE</td>\n",
       "      <td>PLECTRANTHUS AMBOINICUS LOUR SPRENG</td>\n",
       "      <td>...</td>\n",
       "      <td>HARUNGANA MADAGASCARIENSIS</td>\n",
       "      <td>BERBERIS SERRATIFOLIA WHOLE</td>\n",
       "      <td>COLEUS SUBORBICULARIS WHOLE</td>\n",
       "      <td>BERBERIS COERULESCENS WHOLE</td>\n",
       "      <td>BERBERIS CERATOPHYLLA WHOLE</td>\n",
       "      <td>SAMBUCUS ROTUNDIFOLIA WHOLE</td>\n",
       "      <td>GLYCYRRHIZA INFLATA BATALIN</td>\n",
       "      <td>TOONA LONGIFOLIA WHOLE</td>\n",
       "      <td>1.0</td>\n",
       "      <td>1.0</td>\n",
       "    </tr>\n",
       "    <tr>\n",
       "      <th>952894</th>\n",
       "      <td>PEUMUMS BJLUDS</td>\n",
       "      <td>BOLDO</td>\n",
       "      <td>[16, 5, 21, 13, 21, 13, 19, 27, 2, 10, 12, 21,...</td>\n",
       "      <td>[2, 15, 12, 4, 15, 0, 0, 0, 0, 0, 0, 0, 0, 0, ...</td>\n",
       "      <td>1</td>\n",
       "      <td>0</td>\n",
       "      <td>PEUMUS BOLDUS</td>\n",
       "      <td>SAMBUCUS EBULUS</td>\n",
       "      <td>TEUCRIUM BOTRYS</td>\n",
       "      <td>CYPERUS ROTUNDUS</td>\n",
       "      <td>...</td>\n",
       "      <td>TEUCRIUM CHAMAEDRYS</td>\n",
       "      <td>HYPERICUM REVOLUTUM</td>\n",
       "      <td>EPIMEDIUM PUBESCENS</td>\n",
       "      <td>CLEMATIS VILLOSA</td>\n",
       "      <td>APIUM GRAVEOLENS</td>\n",
       "      <td>RUBUS RIGIDUS</td>\n",
       "      <td>ELYMUS REPENS</td>\n",
       "      <td>DESMODIUM GLUTINOSUM</td>\n",
       "      <td>inf</td>\n",
       "      <td>1.0</td>\n",
       "    </tr>\n",
       "    <tr>\n",
       "      <th>2228456</th>\n",
       "      <td>TANETHUM GGMEOLEQN</td>\n",
       "      <td>ANETHUM GRAVEOLENS</td>\n",
       "      <td>[20, 1, 14, 5, 20, 8, 21, 13, 27, 7, 7, 13, 5,...</td>\n",
       "      <td>[1, 14, 5, 20, 8, 21, 13, 27, 7, 18, 1, 22, 5,...</td>\n",
       "      <td>1</td>\n",
       "      <td>0</td>\n",
       "      <td>ANETHUM GRAVEOLENS</td>\n",
       "      <td>APIUM GRAVEOLENS</td>\n",
       "      <td>TANACETUM VULGARE</td>\n",
       "      <td>ZANTHOXYLUM SIMULANS</td>\n",
       "      <td>...</td>\n",
       "      <td>EPIMEDIUM PUBESCENS</td>\n",
       "      <td>VACCINIUM ANGUSTIFOLIUM</td>\n",
       "      <td>PLECTRANTHUS AMBOINICUS</td>\n",
       "      <td>HYLOTELEPHIUM TELEPHIUM</td>\n",
       "      <td>EQUISETUM HYEMALE WHOLE</td>\n",
       "      <td>LACHNANTHES CAROLINIANA</td>\n",
       "      <td>PLECTRANTHUS ESCULENTUS</td>\n",
       "      <td>PLATANTHERA PSYCODES</td>\n",
       "      <td>1.0</td>\n",
       "      <td>1.0</td>\n",
       "    </tr>\n",
       "    <tr>\n",
       "      <th>155396</th>\n",
       "      <td>OVREGN</td>\n",
       "      <td>OREGANO</td>\n",
       "      <td>[15, 22, 18, 5, 7, 14, 0, 0, 0, 0, 0, 0, 0, 0,...</td>\n",
       "      <td>[15, 18, 5, 7, 1, 14, 15, 0, 0, 0, 0, 0, 0, 0,...</td>\n",
       "      <td>1</td>\n",
       "      <td>0</td>\n",
       "      <td>OREGANO</td>\n",
       "      <td>SOYBEAN</td>\n",
       "      <td>JAVABEAN</td>\n",
       "      <td>SOYABEAN</td>\n",
       "      <td>...</td>\n",
       "      <td>BORAGE</td>\n",
       "      <td>GALEGA</td>\n",
       "      <td>OREGON GRAPE</td>\n",
       "      <td>DELONIX REGIA</td>\n",
       "      <td>OXYRIA DIGYNA</td>\n",
       "      <td>LOCUSTBEAN</td>\n",
       "      <td>GOOSEGRASS</td>\n",
       "      <td>OLIVE LEAF</td>\n",
       "      <td>1.0</td>\n",
       "      <td>1.0</td>\n",
       "    </tr>\n",
       "    <tr>\n",
       "      <th>1763327</th>\n",
       "      <td>CLLIIMA SLBNIA IRS</td>\n",
       "      <td>COLLOMIA LINEARIS</td>\n",
       "      <td>[3, 12, 12, 9, 9, 13, 1, 27, 19, 12, 2, 14, 9,...</td>\n",
       "      <td>[3, 15, 12, 12, 15, 13, 9, 1, 27, 12, 9, 14, 5...</td>\n",
       "      <td>1</td>\n",
       "      <td>0</td>\n",
       "      <td>COLLOMIA LINEARIS</td>\n",
       "      <td>COLLINSIA PARVIFLORA</td>\n",
       "      <td>MELISSA OFFICINALIS</td>\n",
       "      <td>ALBIZIA JULIBRISSIN</td>\n",
       "      <td>...</td>\n",
       "      <td>PALIURUS SPINACHRISTI</td>\n",
       "      <td>CEDRELA SINENSIS WHOLE</td>\n",
       "      <td>CUPIDS SHAVINGBRUSH</td>\n",
       "      <td>ECBALLIUM ELATERIUM</td>\n",
       "      <td>ALBIZIA CORIARIA</td>\n",
       "      <td>CALLUNA VULGARIS</td>\n",
       "      <td>DELPHINIUM GRANDIFLORUM</td>\n",
       "      <td>SCUTELLARIA LATERIFLORA</td>\n",
       "      <td>1.0</td>\n",
       "      <td>1.0</td>\n",
       "    </tr>\n",
       "    <tr>\n",
       "      <th>563632</th>\n",
       "      <td>HYYPLLINHSAMARFINU</td>\n",
       "      <td>PHYLLANTHUSAMARUS</td>\n",
       "      <td>[8, 25, 25, 16, 12, 12, 9, 14, 8, 19, 1, 13, 1...</td>\n",
       "      <td>[16, 8, 25, 12, 12, 1, 14, 20, 8, 21, 19, 1, 1...</td>\n",
       "      <td>1</td>\n",
       "      <td>0</td>\n",
       "      <td>PHYLLANTHUSAMARUS</td>\n",
       "      <td>PHYLLANTHUS AMARUS</td>\n",
       "      <td>PHYTOLACCA AMERICANA</td>\n",
       "      <td>CHRYSOPSIS MARIANA</td>\n",
       "      <td>...</td>\n",
       "      <td>FRAXINUS AMERICANA</td>\n",
       "      <td>CHIONANTHUS VIRGINICUS</td>\n",
       "      <td>HYDRASTIS CANADENSIS L</td>\n",
       "      <td>MALABARTAMARIND</td>\n",
       "      <td>INDIAN TAMARIND</td>\n",
       "      <td>HUNGARIAN CHAMOMILE</td>\n",
       "      <td>ECBALLIUM ELATERIUM</td>\n",
       "      <td>PHYSALIS VIRGINIANA</td>\n",
       "      <td>1.0</td>\n",
       "      <td>1.0</td>\n",
       "    </tr>\n",
       "    <tr>\n",
       "      <th>1872869</th>\n",
       "      <td>SLOIDGAOUS  PLEVX</td>\n",
       "      <td>SOLIDAGO SIMPLEX</td>\n",
       "      <td>[19, 12, 15, 9, 4, 7, 1, 15, 21, 19, 27, 27, 1...</td>\n",
       "      <td>[19, 15, 12, 9, 4, 1, 7, 15, 27, 19, 9, 13, 16...</td>\n",
       "      <td>1</td>\n",
       "      <td>0</td>\n",
       "      <td>SOLIDAGO SIMPLEX</td>\n",
       "      <td>GLADIOLUS DALENII</td>\n",
       "      <td>PLECTRANTHUS ESCULENTUS</td>\n",
       "      <td>CNIDOSCOLUS URENS</td>\n",
       "      <td>...</td>\n",
       "      <td>SOLIDAGO CANADENSIS</td>\n",
       "      <td>CLINACANTHUS NUTANS</td>\n",
       "      <td>CODONOPSIS PILOSULA</td>\n",
       "      <td>HYLOTELEPHIUM TELEPHIUM</td>\n",
       "      <td>TALL SCOURINGRUSH WHOLE</td>\n",
       "      <td>COLEUS AMBOINICUS WHOLE</td>\n",
       "      <td>COLEUS AROMATICUS WHOLE</td>\n",
       "      <td>CASSIA ORIENTALIS WHOLE</td>\n",
       "      <td>1.0</td>\n",
       "      <td>1.0</td>\n",
       "    </tr>\n",
       "    <tr>\n",
       "      <th>756574</th>\n",
       "      <td>EUROVAN HIKAZEL</td>\n",
       "      <td>EUROPEAN HAZEL</td>\n",
       "      <td>[5, 21, 18, 15, 22, 1, 14, 27, 8, 9, 11, 1, 26...</td>\n",
       "      <td>[5, 21, 18, 15, 16, 5, 1, 14, 27, 8, 1, 26, 5,...</td>\n",
       "      <td>1</td>\n",
       "      <td>0</td>\n",
       "      <td>EUROPEAN HAZEL</td>\n",
       "      <td>EUROPEANFIELDELM</td>\n",
       "      <td>EUROPEAN FILBERT</td>\n",
       "      <td>EUROPEAN GRAPE</td>\n",
       "      <td>...</td>\n",
       "      <td>EUROPEAN ELDER HOC</td>\n",
       "      <td>EUROPEAN BLACK ELDER WHOLE</td>\n",
       "      <td>SZECHWAN CHINABERRY</td>\n",
       "      <td>EUROPEAN ELDERBERRY WHOLE</td>\n",
       "      <td>SQUAWMINT TICKWEED</td>\n",
       "      <td>ERYTHRINA HERBACEA</td>\n",
       "      <td>AMERICAN SPIKENARD</td>\n",
       "      <td>EUROPEAN BLACK ELDERBERRY WHOLE</td>\n",
       "      <td>1.0</td>\n",
       "      <td>1.0</td>\n",
       "    </tr>\n",
       "    <tr>\n",
       "      <th>2361142</th>\n",
       "      <td>AGUHARIP CNTADENSILS</td>\n",
       "      <td>SANGUINARIA CANADENSIS</td>\n",
       "      <td>[1, 7, 21, 8, 1, 18, 9, 16, 27, 3, 14, 20, 1, ...</td>\n",
       "      <td>[19, 1, 14, 7, 21, 9, 14, 1, 18, 9, 1, 27, 3, ...</td>\n",
       "      <td>1</td>\n",
       "      <td>0</td>\n",
       "      <td>SANGUINARIA CANADENSIS</td>\n",
       "      <td>HYDRASTIS CANADENSIS</td>\n",
       "      <td>HYDRASTIS CANADENSIS L</td>\n",
       "      <td>WARNERIA CANADENSIS WHOLE</td>\n",
       "      <td>...</td>\n",
       "      <td>ASARUM CANADENSE</td>\n",
       "      <td>CARYA ILLINOINENSIS</td>\n",
       "      <td>DIOSCOREA PRAEHENSILIS</td>\n",
       "      <td>COMMELINA BENGHALENSIS</td>\n",
       "      <td>GARCINIA NATALENSIS WHOLE</td>\n",
       "      <td>ARCTOSTAPHYLOS NEVADENSIS</td>\n",
       "      <td>CONYZA CANADENSIS</td>\n",
       "      <td>SMILAX BINCHUANENSIS</td>\n",
       "      <td>1.0</td>\n",
       "      <td>1.0</td>\n",
       "    </tr>\n",
       "  </tbody>\n",
       "</table>\n",
       "<p>10 rows × 28 columns</p>\n",
       "</div>"
      ],
      "text/plain": [
       "                               x                        y  \\\n",
       "42083             ST JOHS CBREHD        CERATONIA SILIQUA   \n",
       "950307   BLUNTLE VDNZVQELAMQSOIN  BLUNTLEAVED EVERLASTING   \n",
       "952894            PEUMUMS BJLUDS                    BOLDO   \n",
       "2228456       TANETHUM GGMEOLEQN       ANETHUM GRAVEOLENS   \n",
       "155396                    OVREGN                  OREGANO   \n",
       "1763327       CLLIIMA SLBNIA IRS        COLLOMIA LINEARIS   \n",
       "563632        HYYPLLINHSAMARFINU        PHYLLANTHUSAMARUS   \n",
       "1872869        SLOIDGAOUS  PLEVX         SOLIDAGO SIMPLEX   \n",
       "756574           EUROVAN HIKAZEL           EUROPEAN HAZEL   \n",
       "2361142     AGUHARIP CNTADENSILS   SANGUINARIA CANADENSIS   \n",
       "\n",
       "                                               Processed_x  \\\n",
       "42083    [19, 20, 27, 10, 15, 8, 19, 27, 3, 2, 18, 5, 8...   \n",
       "950307   [2, 12, 21, 14, 20, 12, 5, 27, 22, 4, 14, 26, ...   \n",
       "952894   [16, 5, 21, 13, 21, 13, 19, 27, 2, 10, 12, 21,...   \n",
       "2228456  [20, 1, 14, 5, 20, 8, 21, 13, 27, 7, 7, 13, 5,...   \n",
       "155396   [15, 22, 18, 5, 7, 14, 0, 0, 0, 0, 0, 0, 0, 0,...   \n",
       "1763327  [3, 12, 12, 9, 9, 13, 1, 27, 19, 12, 2, 14, 9,...   \n",
       "563632   [8, 25, 25, 16, 12, 12, 9, 14, 8, 19, 1, 13, 1...   \n",
       "1872869  [19, 12, 15, 9, 4, 7, 1, 15, 21, 19, 27, 27, 1...   \n",
       "756574   [5, 21, 18, 15, 22, 1, 14, 27, 8, 9, 11, 1, 26...   \n",
       "2361142  [1, 7, 21, 8, 1, 18, 9, 16, 27, 3, 14, 20, 1, ...   \n",
       "\n",
       "                                               Processed_y  Match  Distance  \\\n",
       "42083    [3, 5, 18, 1, 20, 15, 14, 9, 1, 27, 19, 9, 12,...      1         0   \n",
       "950307   [2, 12, 21, 14, 20, 12, 5, 1, 22, 5, 4, 27, 5,...      1         0   \n",
       "952894   [2, 15, 12, 4, 15, 0, 0, 0, 0, 0, 0, 0, 0, 0, ...      1         0   \n",
       "2228456  [1, 14, 5, 20, 8, 21, 13, 27, 7, 18, 1, 22, 5,...      1         0   \n",
       "155396   [15, 18, 5, 7, 1, 14, 15, 0, 0, 0, 0, 0, 0, 0,...      1         0   \n",
       "1763327  [3, 15, 12, 12, 15, 13, 9, 1, 27, 12, 9, 14, 5...      1         0   \n",
       "563632   [16, 8, 25, 12, 12, 1, 14, 20, 8, 21, 19, 1, 1...      1         0   \n",
       "1872869  [19, 15, 12, 9, 4, 1, 7, 15, 27, 19, 9, 13, 16...      1         0   \n",
       "756574   [5, 21, 18, 15, 16, 5, 1, 14, 27, 8, 1, 26, 5,...      1         0   \n",
       "2361142  [19, 1, 14, 7, 21, 9, 14, 1, 18, 9, 1, 27, 3, ...      1         0   \n",
       "\n",
       "                           rank1                           rank2  \\\n",
       "42083             ST JOHNS BREAD                   ST JOHNSBREAD   \n",
       "950307   BLUNTLEAVED EVERLASTING  SCHOENOPLECTUS TABERNAEMONTANI   \n",
       "952894             PEUMUS BOLDUS                 SAMBUCUS EBULUS   \n",
       "2228456       ANETHUM GRAVEOLENS                APIUM GRAVEOLENS   \n",
       "155396                   OREGANO                         SOYBEAN   \n",
       "1763327        COLLOMIA LINEARIS            COLLINSIA PARVIFLORA   \n",
       "563632         PHYLLANTHUSAMARUS              PHYLLANTHUS AMARUS   \n",
       "1872869         SOLIDAGO SIMPLEX               GLADIOLUS DALENII   \n",
       "756574            EUROPEAN HAZEL                EUROPEANFIELDELM   \n",
       "2361142   SANGUINARIA CANADENSIS            HYDRASTIS CANADENSIS   \n",
       "\n",
       "                              rank3                                rank4  ...  \\\n",
       "42083                 ST JOHNS WORT                         ST JOHNSWORT  ...   \n",
       "950307   AILANTHUS FLAVESCENS WHOLE  PLECTRANTHUS AMBOINICUS LOUR SPRENG  ...   \n",
       "952894              TEUCRIUM BOTRYS                     CYPERUS ROTUNDUS  ...   \n",
       "2228456           TANACETUM VULGARE                 ZANTHOXYLUM SIMULANS  ...   \n",
       "155396                     JAVABEAN                             SOYABEAN  ...   \n",
       "1763327         MELISSA OFFICINALIS                  ALBIZIA JULIBRISSIN  ...   \n",
       "563632         PHYTOLACCA AMERICANA                   CHRYSOPSIS MARIANA  ...   \n",
       "1872869     PLECTRANTHUS ESCULENTUS                    CNIDOSCOLUS URENS  ...   \n",
       "756574             EUROPEAN FILBERT                       EUROPEAN GRAPE  ...   \n",
       "2361142      HYDRASTIS CANADENSIS L            WARNERIA CANADENSIS WHOLE  ...   \n",
       "\n",
       "                             rank13                       rank14  \\\n",
       "42083          GREENSTEM JOEPYEWEED  COPTIS COPTIS CHINENSIS HOC   \n",
       "950307   HARUNGANA MADAGASCARIENSIS  BERBERIS SERRATIFOLIA WHOLE   \n",
       "952894          TEUCRIUM CHAMAEDRYS          HYPERICUM REVOLUTUM   \n",
       "2228456         EPIMEDIUM PUBESCENS      VACCINIUM ANGUSTIFOLIUM   \n",
       "155396                       BORAGE                       GALEGA   \n",
       "1763327       PALIURUS SPINACHRISTI       CEDRELA SINENSIS WHOLE   \n",
       "563632           FRAXINUS AMERICANA       CHIONANTHUS VIRGINICUS   \n",
       "1872869         SOLIDAGO CANADENSIS          CLINACANTHUS NUTANS   \n",
       "756574           EUROPEAN ELDER HOC   EUROPEAN BLACK ELDER WHOLE   \n",
       "2361142            ASARUM CANADENSE          CARYA ILLINOINENSIS   \n",
       "\n",
       "                              rank15                       rank16  \\\n",
       "42083              DIANTHUS CRENATUS            SONCHUS OLERACEUS   \n",
       "950307   COLEUS SUBORBICULARIS WHOLE  BERBERIS COERULESCENS WHOLE   \n",
       "952894           EPIMEDIUM PUBESCENS             CLEMATIS VILLOSA   \n",
       "2228456      PLECTRANTHUS AMBOINICUS      HYLOTELEPHIUM TELEPHIUM   \n",
       "155396                  OREGON GRAPE                DELONIX REGIA   \n",
       "1763327          CUPIDS SHAVINGBRUSH          ECBALLIUM ELATERIUM   \n",
       "563632        HYDRASTIS CANADENSIS L              MALABARTAMARIND   \n",
       "1872869          CODONOPSIS PILOSULA      HYLOTELEPHIUM TELEPHIUM   \n",
       "756574           SZECHWAN CHINABERRY    EUROPEAN ELDERBERRY WHOLE   \n",
       "2361142       DIOSCOREA PRAEHENSILIS       COMMELINA BENGHALENSIS   \n",
       "\n",
       "                              rank17                       rank18  \\\n",
       "42083       BLACK STINKING HOREHOUND        SWEET FALSE CHAMOMILE   \n",
       "950307   BERBERIS CERATOPHYLLA WHOLE  SAMBUCUS ROTUNDIFOLIA WHOLE   \n",
       "952894              APIUM GRAVEOLENS                RUBUS RIGIDUS   \n",
       "2228456      EQUISETUM HYEMALE WHOLE      LACHNANTHES CAROLINIANA   \n",
       "155396                 OXYRIA DIGYNA                   LOCUSTBEAN   \n",
       "1763327             ALBIZIA CORIARIA             CALLUNA VULGARIS   \n",
       "563632               INDIAN TAMARIND          HUNGARIAN CHAMOMILE   \n",
       "1872869      TALL SCOURINGRUSH WHOLE      COLEUS AMBOINICUS WHOLE   \n",
       "756574            SQUAWMINT TICKWEED           ERYTHRINA HERBACEA   \n",
       "2361142    GARCINIA NATALENSIS WHOLE    ARCTOSTAPHYLOS NEVADENSIS   \n",
       "\n",
       "                              rank19                           rank20  \\\n",
       "42083                 QUERCUS CERRIS        ATRACTYLODES MACROCEPHALA   \n",
       "950307   GLYCYRRHIZA INFLATA BATALIN           TOONA LONGIFOLIA WHOLE   \n",
       "952894                 ELYMUS REPENS             DESMODIUM GLUTINOSUM   \n",
       "2228456      PLECTRANTHUS ESCULENTUS             PLATANTHERA PSYCODES   \n",
       "155396                    GOOSEGRASS                       OLIVE LEAF   \n",
       "1763327      DELPHINIUM GRANDIFLORUM          SCUTELLARIA LATERIFLORA   \n",
       "563632           ECBALLIUM ELATERIUM              PHYSALIS VIRGINIANA   \n",
       "1872869      COLEUS AROMATICUS WHOLE          CASSIA ORIENTALIS WHOLE   \n",
       "756574            AMERICAN SPIKENARD  EUROPEAN BLACK ELDERBERRY WHOLE   \n",
       "2361142            CONYZA CANADENSIS             SMILAX BINCHUANENSIS   \n",
       "\n",
       "        exact_rank equivalent_rank  \n",
       "42083          inf             1.0  \n",
       "950307         1.0             1.0  \n",
       "952894         inf             1.0  \n",
       "2228456        1.0             1.0  \n",
       "155396         1.0             1.0  \n",
       "1763327        1.0             1.0  \n",
       "563632         1.0             1.0  \n",
       "1872869        1.0             1.0  \n",
       "756574         1.0             1.0  \n",
       "2361142        1.0             1.0  \n",
       "\n",
       "[10 rows x 28 columns]"
      ]
     },
     "execution_count": 33,
     "metadata": {},
     "output_type": "execute_result"
    }
   ],
   "source": [
    "Levenshtein.sample(n=10)"
   ]
  },
  {
   "cell_type": "code",
   "execution_count": 34,
   "id": "695f97e8",
   "metadata": {},
   "outputs": [
    {
     "data": {
      "text/html": [
       "<div>\n",
       "<style scoped>\n",
       "    .dataframe tbody tr th:only-of-type {\n",
       "        vertical-align: middle;\n",
       "    }\n",
       "\n",
       "    .dataframe tbody tr th {\n",
       "        vertical-align: top;\n",
       "    }\n",
       "\n",
       "    .dataframe thead th {\n",
       "        text-align: right;\n",
       "    }\n",
       "</style>\n",
       "<table border=\"1\" class=\"dataframe\">\n",
       "  <thead>\n",
       "    <tr style=\"text-align: right;\">\n",
       "      <th></th>\n",
       "      <th>exact_reciprocal_rank</th>\n",
       "      <th>equivalent_reciprocal_rank</th>\n",
       "    </tr>\n",
       "  </thead>\n",
       "  <tbody>\n",
       "    <tr>\n",
       "      <th>count</th>\n",
       "      <td>1000.000000</td>\n",
       "      <td>1000.000000</td>\n",
       "    </tr>\n",
       "    <tr>\n",
       "      <th>mean</th>\n",
       "      <td>0.566564</td>\n",
       "      <td>0.903107</td>\n",
       "    </tr>\n",
       "    <tr>\n",
       "      <th>std</th>\n",
       "      <td>0.480256</td>\n",
       "      <td>0.254226</td>\n",
       "    </tr>\n",
       "    <tr>\n",
       "      <th>min</th>\n",
       "      <td>0.000000</td>\n",
       "      <td>0.000000</td>\n",
       "    </tr>\n",
       "    <tr>\n",
       "      <th>25%</th>\n",
       "      <td>0.000000</td>\n",
       "      <td>1.000000</td>\n",
       "    </tr>\n",
       "    <tr>\n",
       "      <th>50%</th>\n",
       "      <td>1.000000</td>\n",
       "      <td>1.000000</td>\n",
       "    </tr>\n",
       "    <tr>\n",
       "      <th>75%</th>\n",
       "      <td>1.000000</td>\n",
       "      <td>1.000000</td>\n",
       "    </tr>\n",
       "    <tr>\n",
       "      <th>max</th>\n",
       "      <td>1.000000</td>\n",
       "      <td>1.000000</td>\n",
       "    </tr>\n",
       "  </tbody>\n",
       "</table>\n",
       "</div>"
      ],
      "text/plain": [
       "       exact_reciprocal_rank  equivalent_reciprocal_rank\n",
       "count            1000.000000                 1000.000000\n",
       "mean                0.566564                    0.903107\n",
       "std                 0.480256                    0.254226\n",
       "min                 0.000000                    0.000000\n",
       "25%                 0.000000                    1.000000\n",
       "50%                 1.000000                    1.000000\n",
       "75%                 1.000000                    1.000000\n",
       "max                 1.000000                    1.000000"
      ]
     },
     "execution_count": 34,
     "metadata": {},
     "output_type": "execute_result"
    }
   ],
   "source": [
    "Levenshtein_mrr = Levenshtein.loc[:,['x', 'exact_rank', 'equivalent_rank']]\n",
    "Levenshtein_mrr.loc[:,'exact_reciprocal_rank'] = 1/Levenshtein_mrr.loc[:, 'exact_rank']\n",
    "Levenshtein_mrr.loc[:,'equivalent_reciprocal_rank'] = 1/Levenshtein_mrr.loc[:, 'equivalent_rank']\n",
    "Levenshtein_mrr[['exact_reciprocal_rank', 'equivalent_reciprocal_rank']].describe()"
   ]
  },
  {
   "cell_type": "code",
   "execution_count": 35,
   "id": "06fc8e14",
   "metadata": {},
   "outputs": [],
   "source": [
    "#get median and stdev\n",
    "# Levenshtein_mrr['exact_rank'].median(), Levenshtein_mrr['exact_rank'].std()"
   ]
  },
  {
   "cell_type": "code",
   "execution_count": 36,
   "id": "98c52c98",
   "metadata": {},
   "outputs": [],
   "source": [
    "#get median and stdev\n",
    "# Levenshtein_mrr['equivalent_rank'].median(), Levenshtein_mrr['equivalent_rank'].std()"
   ]
  },
  {
   "cell_type": "code",
   "execution_count": 37,
   "id": "26a668bb",
   "metadata": {},
   "outputs": [],
   "source": [
    "# results.loc['Exact', 'Levenshtein'] = 1/Levenshtein_mrr.index.size  * Levenshtein_mrr['exact_reciprocal_rank'].sum()"
   ]
  },
  {
   "cell_type": "code",
   "execution_count": 38,
   "id": "0fda3e10",
   "metadata": {},
   "outputs": [],
   "source": [
    "# results.loc['Equivalent', 'Levenshtein'] = 1/Levenshtein_mrr.index.size  * Levenshtein_mrr['equivalent_reciprocal_rank'].sum()"
   ]
  },
  {
   "cell_type": "code",
   "execution_count": 39,
   "id": "f7d56972",
   "metadata": {},
   "outputs": [],
   "source": [
    "results.loc['Exact', 'Levenshtein'] = Levenshtein_mrr[['exact_reciprocal_rank', 'equivalent_reciprocal_rank']].describe().loc[\"mean\"][0]"
   ]
  },
  {
   "cell_type": "code",
   "execution_count": 40,
   "id": "8bd7645d",
   "metadata": {},
   "outputs": [],
   "source": [
    "results.loc['Exact_std', 'Levenshtein'] = Levenshtein_mrr[['exact_reciprocal_rank', 'equivalent_reciprocal_rank']].describe().loc[\"std\"][0]"
   ]
  },
  {
   "cell_type": "code",
   "execution_count": 41,
   "id": "1337f805",
   "metadata": {},
   "outputs": [],
   "source": [
    "results.loc['Equivalent', 'Levenshtein'] = Levenshtein_mrr[['exact_reciprocal_rank', 'equivalent_reciprocal_rank']].describe().loc[\"mean\"][1]"
   ]
  },
  {
   "cell_type": "code",
   "execution_count": 42,
   "id": "be5811a3",
   "metadata": {},
   "outputs": [],
   "source": [
    "results.loc['Equivalent_std', 'Levenshtein'] = Levenshtein_mrr[['exact_reciprocal_rank', 'equivalent_reciprocal_rank']].describe().loc[\"std\"][1]"
   ]
  },
  {
   "cell_type": "markdown",
   "id": "a4ab4fa9",
   "metadata": {},
   "source": [
    "--------------------------------------"
   ]
  },
  {
   "cell_type": "markdown",
   "id": "df1e1cbd",
   "metadata": {},
   "source": [
    "# Fuzzy Gesalt Match MRR Evaluation"
   ]
  },
  {
   "cell_type": "code",
   "execution_count": 43,
   "id": "0e4c62a5",
   "metadata": {},
   "outputs": [],
   "source": [
    "Gesalt = find_Gesalt_ranks(positive_pairs.loc[:, ('x', 'y')], targets = dUnique_df, equivalence_set = equivalence_set, ranks= 20, find_related_rank=True)"
   ]
  },
  {
   "cell_type": "code",
   "execution_count": 44,
   "id": "a7c71693",
   "metadata": {},
   "outputs": [
    {
     "data": {
      "text/html": [
       "<div>\n",
       "<style scoped>\n",
       "    .dataframe tbody tr th:only-of-type {\n",
       "        vertical-align: middle;\n",
       "    }\n",
       "\n",
       "    .dataframe tbody tr th {\n",
       "        vertical-align: top;\n",
       "    }\n",
       "\n",
       "    .dataframe thead th {\n",
       "        text-align: right;\n",
       "    }\n",
       "</style>\n",
       "<table border=\"1\" class=\"dataframe\">\n",
       "  <thead>\n",
       "    <tr style=\"text-align: right;\">\n",
       "      <th></th>\n",
       "      <th>exact_reciprocal_rank</th>\n",
       "      <th>equivalent_reciprocal_rank</th>\n",
       "    </tr>\n",
       "  </thead>\n",
       "  <tbody>\n",
       "    <tr>\n",
       "      <th>count</th>\n",
       "      <td>1000.000000</td>\n",
       "      <td>1000.000000</td>\n",
       "    </tr>\n",
       "    <tr>\n",
       "      <th>mean</th>\n",
       "      <td>0.562520</td>\n",
       "      <td>0.893717</td>\n",
       "    </tr>\n",
       "    <tr>\n",
       "      <th>std</th>\n",
       "      <td>0.478355</td>\n",
       "      <td>0.269053</td>\n",
       "    </tr>\n",
       "    <tr>\n",
       "      <th>min</th>\n",
       "      <td>0.000000</td>\n",
       "      <td>0.000000</td>\n",
       "    </tr>\n",
       "    <tr>\n",
       "      <th>25%</th>\n",
       "      <td>0.000000</td>\n",
       "      <td>1.000000</td>\n",
       "    </tr>\n",
       "    <tr>\n",
       "      <th>50%</th>\n",
       "      <td>1.000000</td>\n",
       "      <td>1.000000</td>\n",
       "    </tr>\n",
       "    <tr>\n",
       "      <th>75%</th>\n",
       "      <td>1.000000</td>\n",
       "      <td>1.000000</td>\n",
       "    </tr>\n",
       "    <tr>\n",
       "      <th>max</th>\n",
       "      <td>1.000000</td>\n",
       "      <td>1.000000</td>\n",
       "    </tr>\n",
       "  </tbody>\n",
       "</table>\n",
       "</div>"
      ],
      "text/plain": [
       "       exact_reciprocal_rank  equivalent_reciprocal_rank\n",
       "count            1000.000000                 1000.000000\n",
       "mean                0.562520                    0.893717\n",
       "std                 0.478355                    0.269053\n",
       "min                 0.000000                    0.000000\n",
       "25%                 0.000000                    1.000000\n",
       "50%                 1.000000                    1.000000\n",
       "75%                 1.000000                    1.000000\n",
       "max                 1.000000                    1.000000"
      ]
     },
     "execution_count": 44,
     "metadata": {},
     "output_type": "execute_result"
    }
   ],
   "source": [
    "Gesalt_mrr = Gesalt.loc[:,['x', 'exact_rank', 'equivalent_rank']]\n",
    "Gesalt_mrr.loc[:,'exact_reciprocal_rank'] = 1/Gesalt_mrr.loc[:, 'exact_rank']\n",
    "Gesalt_mrr.loc[:,'equivalent_reciprocal_rank'] = 1/Gesalt_mrr.loc[:, 'equivalent_rank']\n",
    "Gesalt_mrr[['exact_reciprocal_rank', 'equivalent_reciprocal_rank']].describe()"
   ]
  },
  {
   "cell_type": "code",
   "execution_count": 45,
   "id": "aeeb02e9",
   "metadata": {},
   "outputs": [],
   "source": [
    "#get median and stdev\n",
    "# Gesalt_mrr['exact_rank'].median(), Gesalt_mrr['exact_rank'].std()"
   ]
  },
  {
   "cell_type": "code",
   "execution_count": 46,
   "id": "778fa0ba",
   "metadata": {},
   "outputs": [],
   "source": [
    "#get median and stdev\n",
    "# Gesalt_mrr['equivalent_rank'].median(), Gesalt_mrr['equivalent_rank'].std()"
   ]
  },
  {
   "cell_type": "code",
   "execution_count": 47,
   "id": "a4b9cce4",
   "metadata": {},
   "outputs": [],
   "source": [
    "# results.loc['Exact', 'Gesalt'] = 1/Gesalt_mrr.index.size  * Gesalt_mrr['exact_reciprocal_rank'].sum()"
   ]
  },
  {
   "cell_type": "code",
   "execution_count": 48,
   "id": "ef6320fb",
   "metadata": {},
   "outputs": [],
   "source": [
    "# results.loc['Equivalent', 'Gesalt'] = 1/Gesalt_mrr.index.size  * Gesalt_mrr['equivalent_reciprocal_rank'].sum()"
   ]
  },
  {
   "cell_type": "code",
   "execution_count": 49,
   "id": "c0380b87",
   "metadata": {},
   "outputs": [],
   "source": [
    "results.loc['Exact', 'Gesalt'] = Gesalt_mrr[['exact_reciprocal_rank', 'equivalent_reciprocal_rank']].describe().loc[\"mean\"][0]"
   ]
  },
  {
   "cell_type": "code",
   "execution_count": 50,
   "id": "73ff11c4",
   "metadata": {},
   "outputs": [],
   "source": [
    "results.loc['Exact_std', 'Gesalt'] = Gesalt_mrr[['exact_reciprocal_rank', 'equivalent_reciprocal_rank']].describe().loc[\"std\"][0]"
   ]
  },
  {
   "cell_type": "code",
   "execution_count": 51,
   "id": "807c9a7d",
   "metadata": {},
   "outputs": [],
   "source": [
    "results.loc['Equivalent', 'Gesalt'] = Gesalt_mrr[['exact_reciprocal_rank', 'equivalent_reciprocal_rank']].describe().loc[\"mean\"][1]"
   ]
  },
  {
   "cell_type": "code",
   "execution_count": 52,
   "id": "37a9388f",
   "metadata": {},
   "outputs": [],
   "source": [
    "results.loc['Equivalent_std', 'Gesalt'] = Gesalt_mrr[['exact_reciprocal_rank', 'equivalent_reciprocal_rank']].describe().loc[\"std\"][1]"
   ]
  },
  {
   "cell_type": "markdown",
   "id": "6d3a4049",
   "metadata": {},
   "source": [
    "--------------------------------------"
   ]
  },
  {
   "cell_type": "code",
   "execution_count": 106,
   "id": "9c15df54",
   "metadata": {},
   "outputs": [],
   "source": [
    "results = results.astype(float).round(3)"
   ]
  },
  {
   "cell_type": "code",
   "execution_count": 107,
   "id": "bef51852",
   "metadata": {},
   "outputs": [
    {
     "data": {
      "text/html": [
       "<div>\n",
       "<style scoped>\n",
       "    .dataframe tbody tr th:only-of-type {\n",
       "        vertical-align: middle;\n",
       "    }\n",
       "\n",
       "    .dataframe tbody tr th {\n",
       "        vertical-align: top;\n",
       "    }\n",
       "\n",
       "    .dataframe thead th {\n",
       "        text-align: right;\n",
       "    }\n",
       "</style>\n",
       "<table border=\"1\" class=\"dataframe\">\n",
       "  <thead>\n",
       "    <tr style=\"text-align: right;\">\n",
       "      <th></th>\n",
       "      <th>Exact</th>\n",
       "      <th>Equivalent</th>\n",
       "      <th>Exact_std</th>\n",
       "      <th>Equivalent_std</th>\n",
       "    </tr>\n",
       "  </thead>\n",
       "  <tbody>\n",
       "    <tr>\n",
       "      <th>Siamese model</th>\n",
       "      <td>0.438</td>\n",
       "      <td>0.672</td>\n",
       "      <td>0.416</td>\n",
       "      <td>0.408</td>\n",
       "    </tr>\n",
       "    <tr>\n",
       "      <th>Levenshtein</th>\n",
       "      <td>0.567</td>\n",
       "      <td>0.903</td>\n",
       "      <td>0.480</td>\n",
       "      <td>0.254</td>\n",
       "    </tr>\n",
       "    <tr>\n",
       "      <th>Gesalt</th>\n",
       "      <td>0.563</td>\n",
       "      <td>0.894</td>\n",
       "      <td>0.478</td>\n",
       "      <td>0.269</td>\n",
       "    </tr>\n",
       "  </tbody>\n",
       "</table>\n",
       "</div>"
      ],
      "text/plain": [
       "               Exact  Equivalent  Exact_std  Equivalent_std\n",
       "Siamese model  0.438       0.672      0.416           0.408\n",
       "Levenshtein    0.567       0.903      0.480           0.254\n",
       "Gesalt         0.563       0.894      0.478           0.269"
      ]
     },
     "execution_count": 107,
     "metadata": {},
     "output_type": "execute_result"
    }
   ],
   "source": [
    "results.T"
   ]
  },
  {
   "cell_type": "code",
   "execution_count": 108,
   "id": "162592c4",
   "metadata": {},
   "outputs": [],
   "source": [
    "# results.T.plot.bar(rot=0, subplots=True);"
   ]
  },
  {
   "cell_type": "code",
   "execution_count": 109,
   "id": "6161b817",
   "metadata": {},
   "outputs": [
    {
     "data": {
      "text/plain": [
       "[0.438, 0.567, 0.563]"
      ]
     },
     "execution_count": 109,
     "metadata": {},
     "output_type": "execute_result"
    }
   ],
   "source": [
    "results.loc[\"Exact\"].to_list()"
   ]
  },
  {
   "cell_type": "code",
   "execution_count": 110,
   "id": "1a35414f",
   "metadata": {},
   "outputs": [
    {
     "data": {
      "text/plain": [
       "0.07335075550622044"
      ]
     },
     "execution_count": 110,
     "metadata": {},
     "output_type": "execute_result"
    }
   ],
   "source": [
    "results.loc[\"Exact\"].std()"
   ]
  },
  {
   "cell_type": "code",
   "execution_count": 111,
   "id": "b37934d6",
   "metadata": {},
   "outputs": [
    {
     "data": {
      "text/plain": [
       "Siamese model    0.672\n",
       "Levenshtein      0.903\n",
       "Gesalt           0.894\n",
       "Name: Equivalent, dtype: float64"
      ]
     },
     "execution_count": 111,
     "metadata": {},
     "output_type": "execute_result"
    }
   ],
   "source": [
    "results.iloc[1, :]"
   ]
  },
  {
   "cell_type": "code",
   "execution_count": 115,
   "id": "a6096489",
   "metadata": {},
   "outputs": [
    {
     "name": "stdout",
     "output_type": "stream",
     "text": [
      "0.67\n",
      "0.9\n",
      "0.89\n"
     ]
    }
   ],
   "source": [
    "for i in results.columns:\n",
    "    print(results.round(2).loc[:, i][1])"
   ]
  },
  {
   "cell_type": "code",
   "execution_count": 137,
   "id": "939a3e64",
   "metadata": {},
   "outputs": [
    {
     "data": {
      "text/plain": [
       "<Figure size 1000x500 with 0 Axes>"
      ]
     },
     "metadata": {},
     "output_type": "display_data"
    },
    {
     "data": {
      "image/png": "[encoded data removed]",
      "text/plain": [
       "<Figure size 1500x1000 with 1 Axes>"
      ]
     },
     "metadata": {},
     "output_type": "display_data"
    }
   ],
   "source": [
    "X = results.columns\n",
    "Exact = results.loc[\"Exact\"].to_list()\n",
    "Equivalent = results.loc[\"Equivalent\"].to_list()\n",
    "\n",
    "X_axis = np.arange(len(X))\n",
    "plt.figure(figsize=[10,5])\n",
    "\n",
    "plt.figure(figsize=(15,10))\n",
    "\n",
    "plt.bar(X_axis - 0.2, Exact, 0.4, yerr=results.loc[\"Exact_std\"], capsize=10, label = 'Exact match')\n",
    "plt.bar(X_axis + 0.2, Equivalent, 0.4, yerr=results.loc[\"Equivalent_std\"], capsize=10, label = 'Equivalent match')\n",
    "\n",
    "plt.axhline(y=max(Equivalent), color=\"orange\", linestyle=\"--\")\n",
    "plt.axhline(y=max(Exact), color=\"blue\", linestyle=\"--\")\n",
    "\n",
    "for i in range(results.columns.size):\n",
    "    plt.annotate(str(results.round(3).iloc[:, i][0]), xy=(X_axis[i] - 0.3, results.round(2).iloc[:, i][0] + 0.05), ha='center', va='top', fontsize = 16)\n",
    "    plt.annotate(str(results.round(3).iloc[:, i][1]), xy=(X_axis[i] + 0.1, results.round(2).iloc[:, i][1] + 0.05), ha='center', va='top', fontsize = 16)\n",
    "    \n",
    "# plt.errorbar( X_axis - 0.2, Exact[0], yerr=results.loc[\"Exact_std\"][0], fmt=\"o\", color=\"r\")\n",
    "# plt.errorbar( X_axis, Exact[1], yerr=results.loc[\"Exact_std\"][1], fmt=\"o\", color=\"r\")\n",
    "# plt.errorbar( X_axis + 0.2, Exact[2], yerr=results.loc[\"Exact_std\"][2], fmt=\"o\", color=\"r\")\n",
    "    \n",
    "plt.xticks(X_axis, X, style=\"italic\", weight='regular', fontsize=24)\n",
    "plt.tick_params(axis=\"y\", labelsize= 14)\n",
    "# plt.xlabel(\"Approaches\", weight='semibold', fontsize='large')\n",
    "plt.ylabel(\"MRR\", fontsize=24)\n",
    "plt.title(\"Comparison of MRR across multiple approaches\", weight='bold', fontsize=32)\n",
    "plt.legend(fontsize=14, loc='upper left')\n",
    "plt.show()"
   ]
  },
  {
   "cell_type": "markdown",
   "id": "97a0149b",
   "metadata": {},
   "source": [
    "# Translation tests"
   ]
  },
  {
   "cell_type": "code",
   "execution_count": 58,
   "id": "197a11ca",
   "metadata": {},
   "outputs": [],
   "source": [
    "# translation = '../data/translation_test_nps_202203171038.csv'\n",
    "# translation_set = preprocessInput(translation, maxlen = MAXLEN, balance= False, reflexive = False, noise = None)"
   ]
  },
  {
   "cell_type": "code",
   "execution_count": 59,
   "id": "192c7037",
   "metadata": {},
   "outputs": [],
   "source": [
    "# translation_set.head()"
   ]
  },
  {
   "cell_type": "code",
   "execution_count": 60,
   "id": "d9311f27",
   "metadata": {},
   "outputs": [],
   "source": [
    "# encode_pad_tag(translation_set, 1, 0, MAXLEN)"
   ]
  },
  {
   "cell_type": "code",
   "execution_count": 61,
   "id": "cc913215",
   "metadata": {},
   "outputs": [],
   "source": [
    "# novelty = find_ranks(model, translation_set.sample(n=10), ranks=10, find_related_rank= False, report_distances=False)"
   ]
  },
  {
   "cell_type": "code",
   "execution_count": 62,
   "id": "be6ddfaa",
   "metadata": {},
   "outputs": [],
   "source": [
    "# novelty.sample(10)"
   ]
  },
  {
   "cell_type": "code",
   "execution_count": 63,
   "id": "8bf90765",
   "metadata": {},
   "outputs": [],
   "source": [
    "# test[\"Processed_np_name\"] = test.np_name.apply(clean).apply(encode).apply(padding)"
   ]
  },
  {
   "cell_type": "code",
   "execution_count": 64,
   "id": "da48bed4",
   "metadata": {},
   "outputs": [],
   "source": [
    "# test = preprocessInput(unmapped, converters = {\"drug_name_original\":str}, skip_blank_lines=True, na_filter=True, na_values=\"\")\n",
    "# test[\"Processed_drug_name_original\"] = test[test.columns[0]].apply(clean).apply(encode).apply(padding)"
   ]
  }
 ],
 "metadata": {
  "kernelspec": {
   "display_name": "Python 3 (ipykernel)",
   "language": "python",
   "name": "python3"
  },
  "language_info": {
   "codemirror_mode": {
    "name": "ipython",
    "version": 3
   },
   "file_extension": ".py",
   "mimetype": "text/x-python",
   "name": "python",
   "nbconvert_exporter": "python",
   "pygments_lexer": "ipython3",
   "version": "3.10.6"
  }
 },
 "nbformat": 4,
 "nbformat_minor": 5
}
