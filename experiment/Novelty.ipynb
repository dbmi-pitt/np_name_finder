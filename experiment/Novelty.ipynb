{
 "cells": [
  {
   "cell_type": "code",
   "execution_count": 1,
   "id": "a3902d29",
   "metadata": {},
   "outputs": [
    {
     "name": "stderr",
     "output_type": "stream",
     "text": [
      "2022-10-28 13:52:11.619672: I tensorflow/core/platform/cpu_feature_guard.cc:193] This TensorFlow binary is optimized with oneAPI Deep Neural Network Library (oneDNN) to use the following CPU instructions in performance-critical operations:  AVX2 FMA\n",
      "To enable them in other operations, rebuild TensorFlow with the appropriate compiler flags.\n",
      "2022-10-28 13:52:11.731855: E tensorflow/stream_executor/cuda/cuda_blas.cc:2981] Unable to register cuBLAS factory: Attempting to register factory for plugin cuBLAS when one has already been registered\n",
      "2022-10-28 13:52:12.175969: W tensorflow/stream_executor/platform/default/dso_loader.cc:64] Could not load dynamic library 'libnvinfer.so.7'; dlerror: libnvrtc.so.11.1: cannot open shared object file: No such file or directory; LD_LIBRARY_PATH: :/home/israel/miniconda3/envs/tf/lib/\n",
      "2022-10-28 13:52:12.176025: W tensorflow/stream_executor/platform/default/dso_loader.cc:64] Could not load dynamic library 'libnvinfer_plugin.so.7'; dlerror: libnvinfer_plugin.so.7: cannot open shared object file: No such file or directory; LD_LIBRARY_PATH: :/home/israel/miniconda3/envs/tf/lib/\n",
      "2022-10-28 13:52:12.176030: W tensorflow/compiler/tf2tensorrt/utils/py_utils.cc:38] TF-TRT Warning: Cannot dlopen some TensorRT libraries. If you would like to use Nvidia GPU with TensorRT, please make sure the missing libraries mentioned above are installed properly.\n"
     ]
    }
   ],
   "source": [
    "import tensorflow as tf\n",
    "import numpy as np\n",
    "import pandas as pd\n",
    "import pickle\n",
    "from yaml import safe_load\n",
    "import uuid"
   ]
  },
  {
   "cell_type": "code",
   "execution_count": 2,
   "id": "fba20bc7",
   "metadata": {},
   "outputs": [],
   "source": [
    "from StringProcessing import preprocessInput, encode_pad_tag, get_target_groups_from_connected_components"
   ]
  },
  {
   "cell_type": "code",
   "execution_count": 3,
   "id": "016e2b87",
   "metadata": {},
   "outputs": [
    {
     "name": "stdout",
     "output_type": "stream",
     "text": [
      "tf.version:  2.10.0\n",
      "tf.keras.version:  2.10.0\n",
      "tf.config.devices:  [PhysicalDevice(name='/physical_device:CPU:0', device_type='CPU'), PhysicalDevice(name='/physical_device:GPU:0', device_type='GPU')]\n"
     ]
    },
    {
     "name": "stderr",
     "output_type": "stream",
     "text": [
      "2022-10-28 13:52:13.219573: I tensorflow/stream_executor/cuda/cuda_gpu_executor.cc:980] successful NUMA node read from SysFS had negative value (-1), but there must be at least one NUMA node, so returning NUMA node zero\n",
      "2022-10-28 13:52:13.251681: I tensorflow/stream_executor/cuda/cuda_gpu_executor.cc:980] successful NUMA node read from SysFS had negative value (-1), but there must be at least one NUMA node, so returning NUMA node zero\n",
      "2022-10-28 13:52:13.251839: I tensorflow/stream_executor/cuda/cuda_gpu_executor.cc:980] successful NUMA node read from SysFS had negative value (-1), but there must be at least one NUMA node, so returning NUMA node zero\n",
      "2022-10-28 13:52:13.252220: I tensorflow/core/platform/cpu_feature_guard.cc:193] This TensorFlow binary is optimized with oneAPI Deep Neural Network Library (oneDNN) to use the following CPU instructions in performance-critical operations:  AVX2 FMA\n",
      "To enable them in other operations, rebuild TensorFlow with the appropriate compiler flags.\n",
      "2022-10-28 13:52:13.253335: I tensorflow/stream_executor/cuda/cuda_gpu_executor.cc:980] successful NUMA node read from SysFS had negative value (-1), but there must be at least one NUMA node, so returning NUMA node zero\n",
      "2022-10-28 13:52:13.253455: I tensorflow/stream_executor/cuda/cuda_gpu_executor.cc:980] successful NUMA node read from SysFS had negative value (-1), but there must be at least one NUMA node, so returning NUMA node zero\n",
      "2022-10-28 13:52:13.253561: I tensorflow/stream_executor/cuda/cuda_gpu_executor.cc:980] successful NUMA node read from SysFS had negative value (-1), but there must be at least one NUMA node, so returning NUMA node zero\n",
      "2022-10-28 13:52:13.599220: I tensorflow/stream_executor/cuda/cuda_gpu_executor.cc:980] successful NUMA node read from SysFS had negative value (-1), but there must be at least one NUMA node, so returning NUMA node zero\n",
      "2022-10-28 13:52:13.599376: I tensorflow/stream_executor/cuda/cuda_gpu_executor.cc:980] successful NUMA node read from SysFS had negative value (-1), but there must be at least one NUMA node, so returning NUMA node zero\n",
      "2022-10-28 13:52:13.599484: I tensorflow/stream_executor/cuda/cuda_gpu_executor.cc:980] successful NUMA node read from SysFS had negative value (-1), but there must be at least one NUMA node, so returning NUMA node zero\n",
      "2022-10-28 13:52:13.599576: I tensorflow/core/common_runtime/gpu/gpu_device.cc:1616] Created device /device:GPU:0 with 6656 MB memory:  -> device: 0, name: NVIDIA GeForce RTX 2070 with Max-Q Design, pci bus id: 0000:01:00.0, compute capability: 7.5\n"
     ]
    }
   ],
   "source": [
    "from SiameseModel import ContrastiveLoss, CosineDistance\n",
    "from ModelEvaluation import find_Model_ranks, find_Gesalt_ranks"
   ]
  },
  {
   "cell_type": "code",
   "execution_count": 4,
   "id": "1883331b",
   "metadata": {},
   "outputs": [],
   "source": [
    "with open('LSTM65.yaml', 'r') as file:\n",
    "    model_config = safe_load(file)"
   ]
  },
  {
   "cell_type": "code",
   "execution_count": 5,
   "id": "d8370815",
   "metadata": {},
   "outputs": [
    {
     "name": "stderr",
     "output_type": "stream",
     "text": [
      "2022-10-28 13:52:13.761535: I tensorflow/stream_executor/cuda/cuda_gpu_executor.cc:980] successful NUMA node read from SysFS had negative value (-1), but there must be at least one NUMA node, so returning NUMA node zero\n",
      "2022-10-28 13:52:13.761712: I tensorflow/stream_executor/cuda/cuda_gpu_executor.cc:980] successful NUMA node read from SysFS had negative value (-1), but there must be at least one NUMA node, so returning NUMA node zero\n",
      "2022-10-28 13:52:13.761815: I tensorflow/stream_executor/cuda/cuda_gpu_executor.cc:980] successful NUMA node read from SysFS had negative value (-1), but there must be at least one NUMA node, so returning NUMA node zero\n",
      "2022-10-28 13:52:13.761950: I tensorflow/stream_executor/cuda/cuda_gpu_executor.cc:980] successful NUMA node read from SysFS had negative value (-1), but there must be at least one NUMA node, so returning NUMA node zero\n",
      "2022-10-28 13:52:13.762053: I tensorflow/stream_executor/cuda/cuda_gpu_executor.cc:980] successful NUMA node read from SysFS had negative value (-1), but there must be at least one NUMA node, so returning NUMA node zero\n",
      "2022-10-28 13:52:13.762131: I tensorflow/core/common_runtime/gpu/gpu_device.cc:1616] Created device /job:localhost/replica:0/task:0/device:GPU:0 with 6656 MB memory:  -> device: 0, name: NVIDIA GeForce RTX 2070 with Max-Q Design, pci bus id: 0000:01:00.0, compute capability: 7.5\n",
      "2022-10-28 13:52:14.836443: W tensorflow/core/common_runtime/graph_constructor.cc:805] Node 'cond/while' has 13 outputs but the _output_shapes attribute specifies shapes for 46 outputs. Output shapes may be inaccurate.\n",
      "2022-10-28 13:52:15.295539: W tensorflow/core/common_runtime/graph_constructor.cc:805] Node 'cond/while' has 13 outputs but the _output_shapes attribute specifies shapes for 46 outputs. Output shapes may be inaccurate.\n",
      "2022-10-28 13:52:15.358230: W tensorflow/core/common_runtime/graph_constructor.cc:805] Node 'cond/while' has 13 outputs but the _output_shapes attribute specifies shapes for 46 outputs. Output shapes may be inaccurate.\n",
      "2022-10-28 13:52:15.367172: W tensorflow/core/common_runtime/graph_constructor.cc:805] Node 'cond' has 5 outputs but the _output_shapes attribute specifies shapes for 46 outputs. Output shapes may be inaccurate.\n",
      "2022-10-28 13:52:15.427449: W tensorflow/core/common_runtime/graph_constructor.cc:805] Node 'cond/while' has 13 outputs but the _output_shapes attribute specifies shapes for 46 outputs. Output shapes may be inaccurate.\n",
      "2022-10-28 13:52:16.060068: W tensorflow/core/common_runtime/graph_constructor.cc:805] Node 'cond/while' has 13 outputs but the _output_shapes attribute specifies shapes for 46 outputs. Output shapes may be inaccurate.\n",
      "2022-10-28 13:52:16.194300: W tensorflow/core/common_runtime/graph_constructor.cc:805] Node 'cond/while' has 13 outputs but the _output_shapes attribute specifies shapes for 46 outputs. Output shapes may be inaccurate.\n",
      "2022-10-28 13:52:16.220057: W tensorflow/core/common_runtime/graph_constructor.cc:805] Node 'cond/while' has 13 outputs but the _output_shapes attribute specifies shapes for 46 outputs. Output shapes may be inaccurate.\n",
      "2022-10-28 13:52:16.346565: W tensorflow/core/common_runtime/graph_constructor.cc:805] Node 'cond/while' has 13 outputs but the _output_shapes attribute specifies shapes for 46 outputs. Output shapes may be inaccurate.\n",
      "2022-10-28 13:52:16.355729: W tensorflow/core/common_runtime/graph_constructor.cc:805] Node 'cond' has 5 outputs but the _output_shapes attribute specifies shapes for 46 outputs. Output shapes may be inaccurate.\n",
      "2022-10-28 13:52:16.852010: W tensorflow/core/common_runtime/graph_constructor.cc:805] Node 'cond/while' has 13 outputs but the _output_shapes attribute specifies shapes for 46 outputs. Output shapes may be inaccurate.\n",
      "2022-10-28 13:52:17.079246: W tensorflow/core/common_runtime/graph_constructor.cc:805] Node 'cond' has 5 outputs but the _output_shapes attribute specifies shapes for 46 outputs. Output shapes may be inaccurate.\n",
      "2022-10-28 13:52:17.152953: W tensorflow/core/common_runtime/graph_constructor.cc:805] Node 'cond/while' has 13 outputs but the _output_shapes attribute specifies shapes for 46 outputs. Output shapes may be inaccurate.\n",
      "2022-10-28 13:52:17.379651: W tensorflow/core/common_runtime/graph_constructor.cc:805] Node 'cond/while' has 13 outputs but the _output_shapes attribute specifies shapes for 46 outputs. Output shapes may be inaccurate.\n",
      "2022-10-28 13:52:17.433732: W tensorflow/core/common_runtime/graph_constructor.cc:805] Node 'cond/while' has 13 outputs but the _output_shapes attribute specifies shapes for 46 outputs. Output shapes may be inaccurate.\n",
      "2022-10-28 13:52:17.442411: W tensorflow/core/common_runtime/graph_constructor.cc:805] Node 'cond' has 5 outputs but the _output_shapes attribute specifies shapes for 46 outputs. Output shapes may be inaccurate.\n",
      "2022-10-28 13:52:17.505555: W tensorflow/core/common_runtime/graph_constructor.cc:805] Node 'cond' has 5 outputs but the _output_shapes attribute specifies shapes for 46 outputs. Output shapes may be inaccurate.\n",
      "2022-10-28 13:52:17.692149: W tensorflow/core/common_runtime/graph_constructor.cc:805] Node 'cond' has 5 outputs but the _output_shapes attribute specifies shapes for 46 outputs. Output shapes may be inaccurate.\n",
      "2022-10-28 13:52:17.703464: W tensorflow/core/common_runtime/graph_constructor.cc:805] Node 'cond/while' has 13 outputs but the _output_shapes attribute specifies shapes for 46 outputs. Output shapes may be inaccurate.\n",
      "2022-10-28 13:52:17.796569: W tensorflow/core/common_runtime/graph_constructor.cc:805] Node 'cond/while' has 13 outputs but the _output_shapes attribute specifies shapes for 46 outputs. Output shapes may be inaccurate.\n",
      "2022-10-28 13:52:17.856319: W tensorflow/core/common_runtime/graph_constructor.cc:805] Node 'cond' has 5 outputs but the _output_shapes attribute specifies shapes for 46 outputs. Output shapes may be inaccurate.\n",
      "2022-10-28 13:52:17.937764: W tensorflow/core/common_runtime/graph_constructor.cc:805] Node 'cond' has 5 outputs but the _output_shapes attribute specifies shapes for 46 outputs. Output shapes may be inaccurate.\n",
      "2022-10-28 13:52:18.149506: W tensorflow/core/common_runtime/graph_constructor.cc:805] Node 'cond' has 5 outputs but the _output_shapes attribute specifies shapes for 46 outputs. Output shapes may be inaccurate.\n",
      "2022-10-28 13:52:18.672227: W tensorflow/core/common_runtime/graph_constructor.cc:805] Node 'cond' has 5 outputs but the _output_shapes attribute specifies shapes for 46 outputs. Output shapes may be inaccurate.\n",
      "2022-10-28 13:52:18.686839: W tensorflow/core/common_runtime/graph_constructor.cc:805] Node 'cond/while' has 13 outputs but the _output_shapes attribute specifies shapes for 46 outputs. Output shapes may be inaccurate.\n",
      "2022-10-28 13:52:18.695320: W tensorflow/core/common_runtime/graph_constructor.cc:805] Node 'cond' has 5 outputs but the _output_shapes attribute specifies shapes for 46 outputs. Output shapes may be inaccurate.\n",
      "2022-10-28 13:52:18.822912: W tensorflow/core/common_runtime/graph_constructor.cc:805] Node 'cond' has 5 outputs but the _output_shapes attribute specifies shapes for 46 outputs. Output shapes may be inaccurate.\n",
      "2022-10-28 13:52:18.851976: W tensorflow/core/common_runtime/graph_constructor.cc:805] Node 'cond' has 5 outputs but the _output_shapes attribute specifies shapes for 46 outputs. Output shapes may be inaccurate.\n",
      "2022-10-28 13:52:19.068565: W tensorflow/core/common_runtime/graph_constructor.cc:805] Node 'cond' has 5 outputs but the _output_shapes attribute specifies shapes for 46 outputs. Output shapes may be inaccurate.\n",
      "2022-10-28 13:52:19.311993: W tensorflow/core/common_runtime/graph_constructor.cc:805] Node 'cond/while' has 13 outputs but the _output_shapes attribute specifies shapes for 46 outputs. Output shapes may be inaccurate.\n",
      "2022-10-28 13:52:19.320637: W tensorflow/core/common_runtime/graph_constructor.cc:805] Node 'cond' has 5 outputs but the _output_shapes attribute specifies shapes for 46 outputs. Output shapes may be inaccurate.\n",
      "2022-10-28 13:52:19.458374: W tensorflow/core/common_runtime/graph_constructor.cc:805] Node 'cond' has 5 outputs but the _output_shapes attribute specifies shapes for 46 outputs. Output shapes may be inaccurate.\n"
     ]
    },
    {
     "name": "stderr",
     "output_type": "stream",
     "text": [
      "2022-10-28 13:52:19.618714: W tensorflow/core/common_runtime/graph_constructor.cc:805] Node 'cond/while' has 13 outputs but the _output_shapes attribute specifies shapes for 46 outputs. Output shapes may be inaccurate.\n",
      "2022-10-28 13:52:19.627413: W tensorflow/core/common_runtime/graph_constructor.cc:805] Node 'cond' has 5 outputs but the _output_shapes attribute specifies shapes for 46 outputs. Output shapes may be inaccurate.\n",
      "2022-10-28 13:52:19.692277: W tensorflow/core/common_runtime/graph_constructor.cc:805] Node 'cond/while' has 13 outputs but the _output_shapes attribute specifies shapes for 46 outputs. Output shapes may be inaccurate.\n",
      "2022-10-28 13:52:19.700669: W tensorflow/core/common_runtime/graph_constructor.cc:805] Node 'cond' has 5 outputs but the _output_shapes attribute specifies shapes for 46 outputs. Output shapes may be inaccurate.\n",
      "2022-10-28 13:52:19.710110: W tensorflow/core/common_runtime/graph_constructor.cc:805] Node 'cond/while' has 13 outputs but the _output_shapes attribute specifies shapes for 46 outputs. Output shapes may be inaccurate.\n",
      "2022-10-28 13:52:19.718115: W tensorflow/core/common_runtime/graph_constructor.cc:805] Node 'cond' has 5 outputs but the _output_shapes attribute specifies shapes for 46 outputs. Output shapes may be inaccurate.\n",
      "2022-10-28 13:52:19.727564: W tensorflow/core/common_runtime/graph_constructor.cc:805] Node 'cond/while' has 13 outputs but the _output_shapes attribute specifies shapes for 46 outputs. Output shapes may be inaccurate.\n",
      "2022-10-28 13:52:19.735774: W tensorflow/core/common_runtime/graph_constructor.cc:805] Node 'cond' has 5 outputs but the _output_shapes attribute specifies shapes for 46 outputs. Output shapes may be inaccurate.\n",
      "2022-10-28 13:52:19.855580: W tensorflow/core/common_runtime/graph_constructor.cc:805] Node 'cond/while' has 13 outputs but the _output_shapes attribute specifies shapes for 46 outputs. Output shapes may be inaccurate.\n",
      "2022-10-28 13:52:19.864259: W tensorflow/core/common_runtime/graph_constructor.cc:805] Node 'cond' has 5 outputs but the _output_shapes attribute specifies shapes for 46 outputs. Output shapes may be inaccurate.\n",
      "2022-10-28 13:52:20.239713: W tensorflow/core/common_runtime/graph_constructor.cc:805] Node 'cond/while' has 13 outputs but the _output_shapes attribute specifies shapes for 46 outputs. Output shapes may be inaccurate.\n",
      "2022-10-28 13:52:20.249575: W tensorflow/core/common_runtime/graph_constructor.cc:805] Node 'cond' has 5 outputs but the _output_shapes attribute specifies shapes for 46 outputs. Output shapes may be inaccurate.\n",
      "2022-10-28 13:52:20.321312: W tensorflow/core/common_runtime/graph_constructor.cc:805] Node 'cond/while' has 13 outputs but the _output_shapes attribute specifies shapes for 46 outputs. Output shapes may be inaccurate.\n",
      "2022-10-28 13:52:20.329886: W tensorflow/core/common_runtime/graph_constructor.cc:805] Node 'cond' has 5 outputs but the _output_shapes attribute specifies shapes for 46 outputs. Output shapes may be inaccurate.\n",
      "2022-10-28 13:52:20.776796: W tensorflow/core/common_runtime/graph_constructor.cc:805] Node 'cond/while' has 13 outputs but the _output_shapes attribute specifies shapes for 46 outputs. Output shapes may be inaccurate.\n",
      "2022-10-28 13:52:20.785439: W tensorflow/core/common_runtime/graph_constructor.cc:805] Node 'cond' has 5 outputs but the _output_shapes attribute specifies shapes for 46 outputs. Output shapes may be inaccurate.\n"
     ]
    },
    {
     "name": "stdout",
     "output_type": "stream",
     "text": [
      "Model: \"model_1\"\n",
      "__________________________________________________________________________________________________\n",
      " Layer (type)                   Output Shape         Param #     Connected to                     \n",
      "==================================================================================================\n",
      " input_2 (InputLayer)           [(None, 65)]         0           []                               \n",
      "                                                                                                  \n",
      " input_3 (InputLayer)           [(None, 65)]         0           []                               \n",
      "                                                                                                  \n",
      " model (Functional)             (None, 65)           115065      ['input_2[0][0]',                \n",
      "                                                                  'input_3[0][0]']                \n",
      "                                                                                                  \n",
      " lambda (Lambda)                (None, 1)            0           ['model[0][0]',                  \n",
      "                                                                  'model[1][0]']                  \n",
      "                                                                                                  \n",
      " batch_normalization_1 (BatchNo  (None, 1)           4           ['lambda[0][0]']                 \n",
      " rmalization)                                                                                     \n",
      "                                                                                                  \n",
      " dense_2 (Dense)                (None, 1)            2           ['batch_normalization_1[0][0]']  \n",
      "                                                                                                  \n",
      "==================================================================================================\n",
      "Total params: 115,071\n",
      "Trainable params: 114,869\n",
      "Non-trainable params: 202\n",
      "__________________________________________________________________________________________________\n"
     ]
    }
   ],
   "source": [
    "model = tf.keras.models.load_model(\n",
    "    './saved_models/{}'.format(model_config[\"Model_Name\"]), \n",
    "    custom_objects = {\n",
    "        'CosineDistance': CosineDistance,\n",
    "        'ContrastiveLoss': ContrastiveLoss\n",
    "    },\n",
    "    compile=True,\n",
    "    options=None\n",
    ")\n",
    "model.summary()"
   ]
  },
  {
   "cell_type": "markdown",
   "id": "306ceed8",
   "metadata": {},
   "source": [
    "## Find equivalence groups"
   ]
  },
  {
   "cell_type": "code",
   "execution_count": 6,
   "id": "46099e80",
   "metadata": {},
   "outputs": [
    {
     "name": "stdout",
     "output_type": "stream",
     "text": [
      "<class 'pandas.core.frame.DataFrame'>\n",
      "RangeIndex: 70 entries, 0 to 69\n",
      "Data columns (total 2 columns):\n",
      " #   Column          Non-Null Count  Dtype \n",
      "---  ------          --------------  ----- \n",
      " 0   latin_binomial  70 non-null     object\n",
      " 1   common_name     70 non-null     object\n",
      "dtypes: object(2)\n",
      "memory usage: 1.2+ KB\n",
      "None\n",
      "Processing file: ----------------------------------------\n",
      "Renaming colums:\n",
      "\tCurrent names: Index(['latin_binomial', 'common_name'], dtype='object')\n",
      "\tNew names: Index(['x', 'y'], dtype='object')\n",
      "Dropping row with empty cells:\n",
      "\tDropped 0 rows with empty cells.\n",
      "\tCleaning string sequences.\n",
      "\tUppercasing string sequences.\n",
      "Dropping sequences longer than the maxlen of 65:\n",
      "\tDropped 0 that exceeded the maximum sequence length.\n",
      "Dropping duplicate sequences:\n",
      "\tDropped 2 duplicate sequences.\n",
      "Done processing: ---------------------------------------\n",
      "<class 'pandas.core.frame.DataFrame'>\n",
      "RangeIndex: 138 entries, 0 to 137\n",
      "Data columns (total 2 columns):\n",
      " #   Column  Non-Null Count  Dtype \n",
      "---  ------  --------------  ----- \n",
      " 0   x       138 non-null    object\n",
      " 1   y       138 non-null    object\n",
      "dtypes: object(2)\n",
      "memory usage: 2.3+ KB\n",
      "None\n",
      "Encoding and Padding: ----------------------------------\n",
      "\tProcessing x\n",
      "\tProcessing y\n",
      "Tagging: -----------------------------------------------\n"
     ]
    }
   ],
   "source": [
    "target_sequences = encode_pad_tag(preprocessInput(filename=\"../data/NP_subset_LB_common_names.csv\", maxlen= model_config['MAXLEN'], noise= None, balance=False, reflexive = True), match = 1, distance = 0, maxlen = model_config['MAXLEN'])"
   ]
  },
  {
   "cell_type": "code",
   "execution_count": 7,
   "id": "d4c8758a",
   "metadata": {},
   "outputs": [
    {
     "data": {
      "text/plain": [
       "[{'ACAI', 'EUTERPE OLERACEA'},\n",
       " {'ALOE VERA'},\n",
       " {'APPLE CIDER VINEGAR', 'MALUS DOMESTICA', 'MALUS PUMILA'},\n",
       " {'ASHWAGANDA', 'WITHANIA SOMNIFERA'},\n",
       " {'BARLEY GRASS', 'HORDEUM VULGARE'},\n",
       " {'BEET ROOT', 'BETA VULGARIS'},\n",
       " {'ACTAEA RACEMOSA', 'BLACK COHOSH'},\n",
       " {'BLACK CUMIN', 'NIGELLA SATIVA'},\n",
       " {'BOSWELFIA SERRATA', 'BOSWELLIA'},\n",
       " {'BUTCHERSBROOM', 'RUSCUS ACULEATUS'},\n",
       " {'CATSCLAW', 'UNCARIA TOMENTOSA'},\n",
       " {'CHAMOMILE', 'MATRICARIA CHAMOMILLA'},\n",
       " {'BLACK CHERRY', 'PRUNUS SEROTINA'},\n",
       " {'CHLORELLA', 'CHLORELLA VULGARIS'},\n",
       " {'CINNAMOMUM CASSIA', 'CINNAMOMUM VERUM', 'CINNAMON'},\n",
       " {'CORDYCEPS', 'OPHIOCORDYCEPS SINENSIS'},\n",
       " {'CRANBERRY', 'VACCINIUM MACROCARPON'},\n",
       " {'ECHINACEA', 'ECHINACEA ANGUSTIFOLIA'},\n",
       " {'ECHINACEA PURPUREA', 'ECHINACEAPURPLE CONEFLOWER'},\n",
       " {'ELDERBERRY', 'SAMBUCUS NIGRA'},\n",
       " {'EVENING PRIMROSE OIL', 'OENOTHERA BIENNIS'},\n",
       " {'FENNEL', 'FOENICULUM VULGARE'},\n",
       " {'FENUGREEK', 'TRIGONELFA FOENUM'},\n",
       " {'FEVERFEW', 'TANACETUM PARTHENIUM'},\n",
       " {'FLAX SEED', 'LINUM USITATISSIMUM'},\n",
       " {'GARCINIA', 'GARCINIA GUMMI'},\n",
       " {'ALLIUM SATIVUM', 'GARLIC'},\n",
       " {'GINGER', 'ZINGIBER OFFICINALE'},\n",
       " {'GINKGO', 'GINKGO BILOBA'},\n",
       " {'GOJI BERRY', 'LYCIUM BARBARUM'},\n",
       " {'CITRUS PARADISI', 'GRAPEFRUIT'},\n",
       " {'CAMELLIA SINENSIS', 'GREEN TEA'},\n",
       " {'GUARANA', 'PAULLINIA CUPANA'},\n",
       " {'CANNABIS SATIVA', 'HEMP EXTRACT'},\n",
       " {'HOREHOUND', 'MARRUBIUM VULGARE'},\n",
       " {'AESCULUS HIPPOCASTANUM', 'HORSECHESTNUT'},\n",
       " {'EQUISETUM HYEMALE', 'HORSETAIL'},\n",
       " {'HEDERA HELIX', 'IVY LEAF'},\n",
       " {'CURCUMA ZEDOARIA', 'KARCURA'},\n",
       " {'KAVA', 'PIPER METHYSTICUM'},\n",
       " {'KRATOM', 'MITRAGYNA SPECIOSA'},\n",
       " {'LIONSTOOTH', 'TARAXACUM OFFICINALE'},\n",
       " {'LEPIDIUM MEYENII', 'MACA'},\n",
       " {'MILK THISTLE', 'SILYBUM MARIANUM'},\n",
       " {'GYMNEMA SYLVESTRE', 'MIRACLEFRUIT'},\n",
       " {'MORINGA', 'MORINGA OLEIFERA'},\n",
       " {'ARCTIUM LAPPA', 'NIU BANG ZI'},\n",
       " {'OLEA EUROPAEA', 'OLIVE LEAF'},\n",
       " {'OREGANO', 'ORIGANUM VULGARE'},\n",
       " {'PANAX GINSENG'},\n",
       " {'ORYZA SATIVA', 'RED YEAST RICE'},\n",
       " {'GANODERMA LUCIDUM', 'REISHI'},\n",
       " {'RHODIOLA', 'RHODIOLA ROSEA'},\n",
       " {'SCRUBPALMETTO', 'SERENOA REPENS'},\n",
       " {'SENNA', 'SENNA ALEXANDRINA'},\n",
       " {'SLIPPERY ELM', 'ULMUS RUBRA'},\n",
       " {'HYPERICUM PERFORATUM', 'ST JOHNSWORT'},\n",
       " {'STEVIA', 'STEVIA REBAUDIANA'},\n",
       " {'STINGING NETTLE', 'URTICA DIOICA'},\n",
       " {'CHELIDONIUM MAJUS', 'SWALLOWWORT'},\n",
       " {'ANGELICA SINENSIS', 'TANGKUEI'},\n",
       " {'OCIMUM TENUIFLORUM', 'TULSI'},\n",
       " {'CURCUMA JONGA', 'TURMERIC'},\n",
       " {'VALERIAN', 'VALERIANA OFFICINALIS'},\n",
       " {'TRITICUM AESTIVUM', 'WHEAT GRASS'},\n",
       " {'HARPAGOPHYTUM PROCUMBENS', 'WOOD SPIDER'},\n",
       " {'CRATAEGUS LAEVIGATA', 'WOODLAND HAWTHORN'},\n",
       " {'PAUSINYSTALIA JOHIMBE', 'YOHIMBE'}]"
      ]
     },
     "execution_count": 7,
     "metadata": {},
     "output_type": "execute_result"
    }
   ],
   "source": [
    "equivalence_set = get_target_groups_from_connected_components(target_sequences)\n",
    "equivalence_set"
   ]
  },
  {
   "cell_type": "markdown",
   "id": "fe240880",
   "metadata": {},
   "source": [
    "# Preprocess targets"
   ]
  },
  {
   "cell_type": "code",
   "execution_count": 8,
   "id": "fdbdffeb",
   "metadata": {},
   "outputs": [
    {
     "name": "stdout",
     "output_type": "stream",
     "text": [
      "<class 'pandas.core.frame.DataFrame'>\n",
      "RangeIndex: 70 entries, 0 to 69\n",
      "Data columns (total 2 columns):\n",
      " #   Column          Non-Null Count  Dtype \n",
      "---  ------          --------------  ----- \n",
      " 0   latin_binomial  70 non-null     object\n",
      " 1   common_name     70 non-null     object\n",
      "dtypes: object(2)\n",
      "memory usage: 1.2+ KB\n",
      "None\n",
      "Processing file: ----------------------------------------\n",
      "Renaming colums:\n",
      "\tCurrent names: Index(['latin_binomial', 'common_name'], dtype='object')\n",
      "\tNew names: Index(['x', 'y'], dtype='object')\n",
      "Dropping row with empty cells:\n",
      "\tDropped 0 rows with empty cells.\n",
      "\tCleaning string sequences.\n",
      "\tUppercasing string sequences.\n",
      "Dropping sequences longer than the maxlen of 65:\n",
      "\tDropped 0 that exceeded the maximum sequence length.\n",
      "Dropping duplicate sequences:\n",
      "\tDropped 0 duplicate sequences.\n",
      "Done processing: ---------------------------------------\n",
      "<class 'pandas.core.frame.DataFrame'>\n",
      "RangeIndex: 70 entries, 0 to 69\n",
      "Data columns (total 2 columns):\n",
      " #   Column  Non-Null Count  Dtype \n",
      "---  ------  --------------  ----- \n",
      " 0   x       70 non-null     object\n",
      " 1   y       70 non-null     object\n",
      "dtypes: object(2)\n",
      "memory usage: 1.2+ KB\n",
      "None\n",
      "Encoding and Padding: ----------------------------------\n",
      "\tProcessing x\n",
      "\tProcessing y\n",
      "Tagging: -----------------------------------------------\n"
     ]
    }
   ],
   "source": [
    "target_sequences = encode_pad_tag(preprocessInput(filename=\"../data/NP_subset_LB_common_names.csv\", maxlen= model_config['MAXLEN'], noise= None, balance=False, reflexive = False), match = 1, distance = 0, maxlen = model_config['MAXLEN'])"
   ]
  },
  {
   "cell_type": "code",
   "execution_count": 9,
   "id": "9b170d26",
   "metadata": {},
   "outputs": [],
   "source": [
    "target_sequences.rename(columns={\"x\": \"Latin Binomial\", \"y\": \"Prefered Term\"}).loc[:,[\"Latin Binomial\", \"Prefered Term\"]].to_csv('./Novelty_Results/70_target_NPs_LB2PT.csv')"
   ]
  },
  {
   "cell_type": "markdown",
   "id": "08d6f041",
   "metadata": {},
   "source": [
    "# Latin Binomial"
   ]
  },
  {
   "cell_type": "code",
   "execution_count": 10,
   "id": "e70faecf",
   "metadata": {},
   "outputs": [
    {
     "data": {
      "text/html": [
       "<div>\n",
       "<style scoped>\n",
       "    .dataframe tbody tr th:only-of-type {\n",
       "        vertical-align: middle;\n",
       "    }\n",
       "\n",
       "    .dataframe tbody tr th {\n",
       "        vertical-align: top;\n",
       "    }\n",
       "\n",
       "    .dataframe thead th {\n",
       "        text-align: right;\n",
       "    }\n",
       "</style>\n",
       "<table border=\"1\" class=\"dataframe\">\n",
       "  <thead>\n",
       "    <tr style=\"text-align: right;\">\n",
       "      <th></th>\n",
       "      <th>x</th>\n",
       "      <th>Processed_x</th>\n",
       "    </tr>\n",
       "  </thead>\n",
       "  <tbody>\n",
       "    <tr>\n",
       "      <th>0</th>\n",
       "      <td>EUTERPE OLERACEA</td>\n",
       "      <td>[5, 21, 20, 5, 18, 16, 5, 27, 15, 12, 5, 18, 1...</td>\n",
       "    </tr>\n",
       "    <tr>\n",
       "      <th>1</th>\n",
       "      <td>ALOE VERA</td>\n",
       "      <td>[1, 12, 15, 5, 27, 22, 5, 18, 1, 0, 0, 0, 0, 0...</td>\n",
       "    </tr>\n",
       "    <tr>\n",
       "      <th>2</th>\n",
       "      <td>MALUS DOMESTICA</td>\n",
       "      <td>[13, 1, 12, 21, 19, 27, 4, 15, 13, 5, 19, 20, ...</td>\n",
       "    </tr>\n",
       "    <tr>\n",
       "      <th>3</th>\n",
       "      <td>MALUS PUMILA</td>\n",
       "      <td>[13, 1, 12, 21, 19, 27, 16, 21, 13, 9, 12, 1, ...</td>\n",
       "    </tr>\n",
       "    <tr>\n",
       "      <th>4</th>\n",
       "      <td>WITHANIA SOMNIFERA</td>\n",
       "      <td>[23, 9, 20, 8, 1, 14, 9, 1, 27, 19, 15, 13, 14...</td>\n",
       "    </tr>\n",
       "  </tbody>\n",
       "</table>\n",
       "</div>"
      ],
      "text/plain": [
       "                    x                                        Processed_x\n",
       "0    EUTERPE OLERACEA  [5, 21, 20, 5, 18, 16, 5, 27, 15, 12, 5, 18, 1...\n",
       "1           ALOE VERA  [1, 12, 15, 5, 27, 22, 5, 18, 1, 0, 0, 0, 0, 0...\n",
       "2     MALUS DOMESTICA  [13, 1, 12, 21, 19, 27, 4, 15, 13, 5, 19, 20, ...\n",
       "3        MALUS PUMILA  [13, 1, 12, 21, 19, 27, 16, 21, 13, 9, 12, 1, ...\n",
       "4  WITHANIA SOMNIFERA  [23, 9, 20, 8, 1, 14, 9, 1, 27, 19, 15, 13, 14..."
      ]
     },
     "execution_count": 10,
     "metadata": {},
     "output_type": "execute_result"
    }
   ],
   "source": [
    "LatinBinomials = target_sequences.iloc[:,[0,2]]\n",
    "LatinBinomials.head(5)"
   ]
  },
  {
   "cell_type": "markdown",
   "id": "e5d21787",
   "metadata": {},
   "source": [
    "# Common Names"
   ]
  },
  {
   "cell_type": "code",
   "execution_count": 11,
   "id": "5664fbae",
   "metadata": {},
   "outputs": [
    {
     "name": "stderr",
     "output_type": "stream",
     "text": [
      "/tmp/ipykernel_259988/4021679550.py:2: SettingWithCopyWarning: \n",
      "A value is trying to be set on a copy of a slice from a DataFrame\n",
      "\n",
      "See the caveats in the documentation: https://pandas.pydata.org/pandas-docs/stable/user_guide/indexing.html#returning-a-view-versus-a-copy\n",
      "  CommonNames.rename(columns={\"y\": \"x\", \"Processed_y\": \"Processed_x\"}, inplace = True)\n"
     ]
    },
    {
     "data": {
      "text/html": [
       "<div>\n",
       "<style scoped>\n",
       "    .dataframe tbody tr th:only-of-type {\n",
       "        vertical-align: middle;\n",
       "    }\n",
       "\n",
       "    .dataframe tbody tr th {\n",
       "        vertical-align: top;\n",
       "    }\n",
       "\n",
       "    .dataframe thead th {\n",
       "        text-align: right;\n",
       "    }\n",
       "</style>\n",
       "<table border=\"1\" class=\"dataframe\">\n",
       "  <thead>\n",
       "    <tr style=\"text-align: right;\">\n",
       "      <th></th>\n",
       "      <th>x</th>\n",
       "      <th>Processed_x</th>\n",
       "    </tr>\n",
       "  </thead>\n",
       "  <tbody>\n",
       "    <tr>\n",
       "      <th>0</th>\n",
       "      <td>ACAI</td>\n",
       "      <td>[1, 3, 1, 9, 0, 0, 0, 0, 0, 0, 0, 0, 0, 0, 0, ...</td>\n",
       "    </tr>\n",
       "    <tr>\n",
       "      <th>1</th>\n",
       "      <td>ALOE VERA</td>\n",
       "      <td>[1, 12, 15, 5, 27, 22, 5, 18, 1, 0, 0, 0, 0, 0...</td>\n",
       "    </tr>\n",
       "    <tr>\n",
       "      <th>2</th>\n",
       "      <td>APPLE CIDER VINEGAR</td>\n",
       "      <td>[1, 16, 16, 12, 5, 27, 3, 9, 4, 5, 18, 27, 22,...</td>\n",
       "    </tr>\n",
       "    <tr>\n",
       "      <th>3</th>\n",
       "      <td>APPLE CIDER VINEGAR</td>\n",
       "      <td>[1, 16, 16, 12, 5, 27, 3, 9, 4, 5, 18, 27, 22,...</td>\n",
       "    </tr>\n",
       "    <tr>\n",
       "      <th>4</th>\n",
       "      <td>ASHWAGANDA</td>\n",
       "      <td>[1, 19, 8, 23, 1, 7, 1, 14, 4, 1, 0, 0, 0, 0, ...</td>\n",
       "    </tr>\n",
       "  </tbody>\n",
       "</table>\n",
       "</div>"
      ],
      "text/plain": [
       "                     x                                        Processed_x\n",
       "0                 ACAI  [1, 3, 1, 9, 0, 0, 0, 0, 0, 0, 0, 0, 0, 0, 0, ...\n",
       "1            ALOE VERA  [1, 12, 15, 5, 27, 22, 5, 18, 1, 0, 0, 0, 0, 0...\n",
       "2  APPLE CIDER VINEGAR  [1, 16, 16, 12, 5, 27, 3, 9, 4, 5, 18, 27, 22,...\n",
       "3  APPLE CIDER VINEGAR  [1, 16, 16, 12, 5, 27, 3, 9, 4, 5, 18, 27, 22,...\n",
       "4           ASHWAGANDA  [1, 19, 8, 23, 1, 7, 1, 14, 4, 1, 0, 0, 0, 0, ..."
      ]
     },
     "execution_count": 11,
     "metadata": {},
     "output_type": "execute_result"
    }
   ],
   "source": [
    "CommonNames = target_sequences.iloc[:,[1,3]]\n",
    "CommonNames.rename(columns={\"y\": \"x\", \"Processed_y\": \"Processed_x\"}, inplace = True)\n",
    "CommonNames.head(5)"
   ]
  },
  {
   "cell_type": "markdown",
   "id": "88a61304",
   "metadata": {},
   "source": [
    "#  Preprocess unmapped sequences"
   ]
  },
  {
   "cell_type": "code",
   "execution_count": 12,
   "id": "57e30d50",
   "metadata": {},
   "outputs": [
    {
     "name": "stdout",
     "output_type": "stream",
     "text": [
      "<class 'pandas.core.frame.DataFrame'>\n",
      "RangeIndex: 389386 entries, 0 to 389385\n",
      "Data columns (total 1 columns):\n",
      " #   Column              Non-Null Count   Dtype \n",
      "---  ------              --------------   ----- \n",
      " 0   drug_name_original  389385 non-null  object\n",
      "dtypes: object(1)\n",
      "memory usage: 3.0+ MB\n",
      "None\n",
      "Processing file: ----------------------------------------\n",
      "Renaming colums:\n",
      "\tCurrent names: Index(['drug_name_original'], dtype='object')\n",
      "\tNew names: Index(['x'], dtype='object')\n",
      "Dropping row with empty cells:\n",
      "\tDropped 1 rows with empty cells.\n",
      "\tCleaning string sequences.\n",
      "\tUppercasing string sequences.\n",
      "Dropping sequences longer than the maxlen of 65:\n",
      "\tDropped 7751 that exceeded the maximum sequence length.\n",
      "Dropping duplicate sequences:\n",
      "\tDropped 41849 duplicate sequences.\n",
      "Done processing: ---------------------------------------\n",
      "<class 'pandas.core.frame.DataFrame'>\n",
      "RangeIndex: 339785 entries, 0 to 339784\n",
      "Data columns (total 1 columns):\n",
      " #   Column  Non-Null Count   Dtype \n",
      "---  ------  --------------   ----- \n",
      " 0   x       339785 non-null  object\n",
      "dtypes: object(1)\n",
      "memory usage: 2.6+ MB\n",
      "None\n"
     ]
    }
   ],
   "source": [
    "unmapped_sequences = preprocessInput(\"../data/unmapped-faers-drug-strings-Q12004-through-Q2-2021-extended-NP-vocab-09012022.tsv\", maxlen= model_config['MAXLEN'], balance=False, reflexive = False, noise = None, sep=\"\\t\")"
   ]
  },
  {
   "cell_type": "code",
   "execution_count": 13,
   "id": "0afa0299",
   "metadata": {},
   "outputs": [],
   "source": [
    "# unmapped_sequences = unmapped_sequences.sample(n=30)\n",
    "# unmapped_sequences.reset_index(inplace=True)\n",
    "# unmapped_sequences = unmapped_sequences[[\"x\"]]"
   ]
  },
  {
   "cell_type": "code",
   "execution_count": 14,
   "id": "68121cab",
   "metadata": {},
   "outputs": [
    {
     "data": {
      "text/html": [
       "<div>\n",
       "<style scoped>\n",
       "    .dataframe tbody tr th:only-of-type {\n",
       "        vertical-align: middle;\n",
       "    }\n",
       "\n",
       "    .dataframe tbody tr th {\n",
       "        vertical-align: top;\n",
       "    }\n",
       "\n",
       "    .dataframe thead th {\n",
       "        text-align: right;\n",
       "    }\n",
       "</style>\n",
       "<table border=\"1\" class=\"dataframe\">\n",
       "  <thead>\n",
       "    <tr style=\"text-align: right;\">\n",
       "      <th></th>\n",
       "      <th>x</th>\n",
       "    </tr>\n",
       "  </thead>\n",
       "  <tbody>\n",
       "    <tr>\n",
       "      <th>0</th>\n",
       "      <td>DULOXETINE MG EVERY NIGHT AT BEDTIME</td>\n",
       "    </tr>\n",
       "    <tr>\n",
       "      <th>1</th>\n",
       "      <td>ATELEC CLINIDIPINE</td>\n",
       "    </tr>\n",
       "    <tr>\n",
       "      <th>2</th>\n",
       "      <td>MAXIFLOXACIN</td>\n",
       "    </tr>\n",
       "    <tr>\n",
       "      <th>3</th>\n",
       "      <td>PRANDIN TAB</td>\n",
       "    </tr>\n",
       "    <tr>\n",
       "      <th>4</th>\n",
       "      <td>ST JOSHEPHS MG</td>\n",
       "    </tr>\n",
       "  </tbody>\n",
       "</table>\n",
       "</div>"
      ],
      "text/plain": [
       "                                      x\n",
       "0  DULOXETINE MG EVERY NIGHT AT BEDTIME\n",
       "1                    ATELEC CLINIDIPINE\n",
       "2                          MAXIFLOXACIN\n",
       "3                           PRANDIN TAB\n",
       "4                        ST JOSHEPHS MG"
      ]
     },
     "execution_count": 14,
     "metadata": {},
     "output_type": "execute_result"
    }
   ],
   "source": [
    "unmapped_sequences.head(5)"
   ]
  },
  {
   "cell_type": "code",
   "execution_count": 15,
   "id": "ecbf5050",
   "metadata": {},
   "outputs": [
    {
     "name": "stdout",
     "output_type": "stream",
     "text": [
      "Encoding and Padding: ----------------------------------\n",
      "\tProcessing x\n",
      "Tagging: -----------------------------------------------\n"
     ]
    }
   ],
   "source": [
    "unmapped_sequences = encode_pad_tag(unmapped_sequences, match = 1, distance = 0, maxlen = model_config['MAXLEN'])"
   ]
  },
  {
   "cell_type": "markdown",
   "id": "73928bd9",
   "metadata": {},
   "source": [
    "## Master Record"
   ]
  },
  {
   "cell_type": "code",
   "execution_count": 16,
   "id": "698a11c4",
   "metadata": {},
   "outputs": [],
   "source": [
    "UUID_MR = pd.DataFrame(columns=[\"Model_PT_UUID\", \"Model_LB_UUID\", \"Gestalt_PT_UUID\" , \"Gestalt_LB_UUID\"])"
   ]
  },
  {
   "cell_type": "markdown",
   "id": "dd866cd3",
   "metadata": {},
   "source": [
    "# Model PT"
   ]
  },
  {
   "cell_type": "code",
   "execution_count": 17,
   "id": "a6024502",
   "metadata": {},
   "outputs": [
    {
     "name": "stderr",
     "output_type": "stream",
     "text": [
      "/home/israel/Documents/Academic/Research/Richard_Boyce/NP-FAERS-embed/experiment-4/ModelEvaluation.py:60: SettingWithCopyWarning: \n",
      "A value is trying to be set on a copy of a slice from a DataFrame.\n",
      "Try using .loc[row_indexer,col_indexer] = value instead\n",
      "\n",
      "See the caveats in the documentation: https://pandas.pydata.org/pandas-docs/stable/user_guide/indexing.html#returning-a-view-versus-a-copy\n",
      "  df[\"rank{}\".format(i)] = \"\"\n",
      "/home/israel/Documents/Academic/Research/Richard_Boyce/NP-FAERS-embed/experiment-4/ModelEvaluation.py:60: SettingWithCopyWarning: \n",
      "A value is trying to be set on a copy of a slice from a DataFrame.\n",
      "Try using .loc[row_indexer,col_indexer] = value instead\n",
      "\n",
      "See the caveats in the documentation: https://pandas.pydata.org/pandas-docs/stable/user_guide/indexing.html#returning-a-view-versus-a-copy\n",
      "  df[\"rank{}\".format(i)] = \"\"\n",
      "/home/israel/Documents/Academic/Research/Richard_Boyce/NP-FAERS-embed/experiment-4/ModelEvaluation.py:60: SettingWithCopyWarning: \n",
      "A value is trying to be set on a copy of a slice from a DataFrame.\n",
      "Try using .loc[row_indexer,col_indexer] = value instead\n",
      "\n",
      "See the caveats in the documentation: https://pandas.pydata.org/pandas-docs/stable/user_guide/indexing.html#returning-a-view-versus-a-copy\n",
      "  df[\"rank{}\".format(i)] = \"\"\n",
      "2022-10-28 13:52:28.278950: W tensorflow/compiler/jit/mark_for_compilation_pass.cc:1780] (One-time warning): Not using XLA:CPU for cluster.\n",
      "\n",
      "If you want XLA:CPU, do one of the following:\n",
      "\n",
      " - set the TF_XLA_FLAGS to include \"--tf_xla_cpu_global_jit\", or\n",
      " - set cpu_global_jit to true on this session's OptimizerOptions, or\n",
      " - use experimental_jit_scope, or\n",
      " - use tf.function(jit_compile=True).\n",
      "\n",
      "To confirm that XLA is active, pass --vmodule=xla_compilation_cache=1 (as a\n",
      "proper command-line flag, not via TF_XLA_FLAGS).\n",
      "2022-10-28 13:52:30.622449: I tensorflow/compiler/xla/service/service.cc:173] XLA service 0x1f09c7a0 initialized for platform CUDA (this does not guarantee that XLA will be used). Devices:\n",
      "2022-10-28 13:52:30.622468: I tensorflow/compiler/xla/service/service.cc:181]   StreamExecutor device (0): NVIDIA GeForce RTX 2070 with Max-Q Design, Compute Capability 7.5\n",
      "2022-10-28 13:52:30.626446: I tensorflow/compiler/mlir/tensorflow/utils/dump_mlir_util.cc:268] disabling MLIR crash reproducer, set env var `MLIR_CRASH_REPRODUCER_DIRECTORY` to enable.\n",
      "2022-10-28 13:52:30.680749: I tensorflow/core/platform/default/subprocess.cc:304] Start cannot spawn child process: No such file or directory\n",
      "2022-10-28 13:52:30.720645: I tensorflow/compiler/jit/xla_compilation_cache.cc:476] Compiled cluster using XLA!  This line is logged at most once for the lifetime of the process.\n",
      "2022-10-28 13:52:31.359804: I tensorflow/stream_executor/cuda/cuda_dnn.cc:384] Loaded cuDNN version 8600\n"
     ]
    }
   ],
   "source": [
    "results_MPT = find_Model_ranks(model, df = CommonNames, ranks = 20, targets = unmapped_sequences, equivalence_set = equivalence_set)"
   ]
  },
  {
   "cell_type": "code",
   "execution_count": 18,
   "id": "d4178b79",
   "metadata": {},
   "outputs": [
    {
     "name": "stderr",
     "output_type": "stream",
     "text": [
      "/tmp/ipykernel_259988/807129096.py:2: SettingWithCopyWarning: \n",
      "A value is trying to be set on a copy of a slice from a DataFrame.\n",
      "Try using .loc[row_indexer,col_indexer] = value instead\n",
      "\n",
      "See the caveats in the documentation: https://pandas.pydata.org/pandas-docs/stable/user_guide/indexing.html#returning-a-view-versus-a-copy\n",
      "  results_MPT[\"x\"] = results_MPT[\"x\"].apply(lambda x: x + \" Synonyms: \" + str(next(list(y) for y in equivalence_set if x in y)))\n"
     ]
    }
   ],
   "source": [
    "results_MPT = results_MPT.iloc[:, ~results_MPT.columns.isin(['Processed_x', 'Processed_y', 'Match', 'Distance'])]\n",
    "results_MPT[\"x\"] = results_MPT[\"x\"].apply(lambda x: x + \" Synonyms: \" + str(next(list(y) for y in equivalence_set if x in y)))\n",
    "uuids = []\n",
    "for _ in range(results_MPT.index.size):\n",
    "    uuids.append(\"\".join([\"[\", str(uuid.uuid4()), \"]\"]))\n",
    "UUID_MR[\"Model_PT_UUID\"] = uuids\n",
    "results_MPT[\"uuid\"] = UUID_MR[\"Model_PT_UUID\"] "
   ]
  },
  {
   "cell_type": "code",
   "execution_count": 19,
   "id": "ef488305",
   "metadata": {},
   "outputs": [],
   "source": [
    "# results_MPT"
   ]
  },
  {
   "cell_type": "code",
   "execution_count": 20,
   "id": "ce52ac0b",
   "metadata": {},
   "outputs": [],
   "source": [
    "for i in results_MPT.index:\n",
    "    results_MPT.loc[i].to_csv(\"./Novelty_Results/Model/PT_{}.txt\".format(i), sep='\\n', header= False, index=False)"
   ]
  },
  {
   "cell_type": "code",
   "execution_count": 21,
   "id": "14d58421",
   "metadata": {},
   "outputs": [],
   "source": [
    "del results_MPT"
   ]
  },
  {
   "cell_type": "markdown",
   "id": "9b7737cc",
   "metadata": {},
   "source": [
    "----------------------"
   ]
  },
  {
   "cell_type": "markdown",
   "id": "4aed818a",
   "metadata": {},
   "source": [
    "# MODEL LB"
   ]
  },
  {
   "cell_type": "code",
   "execution_count": 22,
   "id": "63be0a82",
   "metadata": {},
   "outputs": [
    {
     "name": "stderr",
     "output_type": "stream",
     "text": [
      "/home/israel/Documents/Academic/Research/Richard_Boyce/NP-FAERS-embed/experiment-4/ModelEvaluation.py:60: SettingWithCopyWarning: \n",
      "A value is trying to be set on a copy of a slice from a DataFrame.\n",
      "Try using .loc[row_indexer,col_indexer] = value instead\n",
      "\n",
      "See the caveats in the documentation: https://pandas.pydata.org/pandas-docs/stable/user_guide/indexing.html#returning-a-view-versus-a-copy\n",
      "  df[\"rank{}\".format(i)] = \"\"\n",
      "/home/israel/Documents/Academic/Research/Richard_Boyce/NP-FAERS-embed/experiment-4/ModelEvaluation.py:60: SettingWithCopyWarning: \n",
      "A value is trying to be set on a copy of a slice from a DataFrame.\n",
      "Try using .loc[row_indexer,col_indexer] = value instead\n",
      "\n",
      "See the caveats in the documentation: https://pandas.pydata.org/pandas-docs/stable/user_guide/indexing.html#returning-a-view-versus-a-copy\n",
      "  df[\"rank{}\".format(i)] = \"\"\n",
      "/home/israel/Documents/Academic/Research/Richard_Boyce/NP-FAERS-embed/experiment-4/ModelEvaluation.py:60: SettingWithCopyWarning: \n",
      "A value is trying to be set on a copy of a slice from a DataFrame.\n",
      "Try using .loc[row_indexer,col_indexer] = value instead\n",
      "\n",
      "See the caveats in the documentation: https://pandas.pydata.org/pandas-docs/stable/user_guide/indexing.html#returning-a-view-versus-a-copy\n",
      "  df[\"rank{}\".format(i)] = \"\"\n"
     ]
    }
   ],
   "source": [
    "results_MLB = find_Model_ranks(model, df = LatinBinomials, ranks = 20, targets = unmapped_sequences, equivalence_set = equivalence_set)"
   ]
  },
  {
   "cell_type": "code",
   "execution_count": 23,
   "id": "24e8aae5",
   "metadata": {},
   "outputs": [
    {
     "name": "stderr",
     "output_type": "stream",
     "text": [
      "/tmp/ipykernel_259988/1397636226.py:2: SettingWithCopyWarning: \n",
      "A value is trying to be set on a copy of a slice from a DataFrame.\n",
      "Try using .loc[row_indexer,col_indexer] = value instead\n",
      "\n",
      "See the caveats in the documentation: https://pandas.pydata.org/pandas-docs/stable/user_guide/indexing.html#returning-a-view-versus-a-copy\n",
      "  results_MLB[\"x\"] = results_MLB[\"x\"].apply(lambda x: x + \" Synonyms: \" + str(next(list(y) for y in equivalence_set if x in y)))\n"
     ]
    }
   ],
   "source": [
    "results_MLB = results_MLB.iloc[:, ~results_MLB.columns.isin(['Processed_x', 'Processed_y', 'Match', 'Distance'])]\n",
    "results_MLB[\"x\"] = results_MLB[\"x\"].apply(lambda x: x + \" Synonyms: \" + str(next(list(y) for y in equivalence_set if x in y)))\n",
    "uuids = []\n",
    "for _ in range(results_MLB.index.size):\n",
    "    uuids.append(\"\".join([\"[\", str(uuid.uuid4()), \"]\"]))\n",
    "UUID_MR[\"Model_LB_UUID\"] = uuids\n",
    "results_MLB[\"uuid\"] = UUID_MR[\"Model_LB_UUID\"] "
   ]
  },
  {
   "cell_type": "code",
   "execution_count": 24,
   "id": "6faeaa53",
   "metadata": {},
   "outputs": [],
   "source": [
    "# results_MLB"
   ]
  },
  {
   "cell_type": "code",
   "execution_count": 25,
   "id": "f9ab12b9",
   "metadata": {},
   "outputs": [],
   "source": [
    "for i in results_MLB.index:\n",
    "    results_MLB.loc[i].to_csv(\"./Novelty_Results/Model/LB_{}.txt\".format(i), sep='\\n', header= False, index=False)"
   ]
  },
  {
   "cell_type": "code",
   "execution_count": 26,
   "id": "a407c6f5",
   "metadata": {},
   "outputs": [],
   "source": [
    "del results_MLB"
   ]
  },
  {
   "cell_type": "markdown",
   "id": "145e6485",
   "metadata": {},
   "source": [
    "------------------------------------------------"
   ]
  },
  {
   "cell_type": "markdown",
   "id": "bc0b679b",
   "metadata": {},
   "source": [
    "# GESTALT PT"
   ]
  },
  {
   "cell_type": "code",
   "execution_count": 27,
   "id": "038ed3a0",
   "metadata": {},
   "outputs": [],
   "source": [
    "results_GPT = find_Gesalt_ranks(df = CommonNames.loc[:, ['x', 'Processed_x']], ranks = 20, targets = unmapped_sequences, equivalence_set = equivalence_set, find_related_rank= False)"
   ]
  },
  {
   "cell_type": "code",
   "execution_count": 28,
   "id": "b4947ff7",
   "metadata": {},
   "outputs": [],
   "source": [
    "results_GPT = results_GPT.iloc[:, ~results_GPT.columns.isin(['Processed_x', 'Processed_y', 'Match', 'Distance'])]\n",
    "results_GPT[\"x\"] = results_GPT[\"x\"].apply(lambda x: x + \" Synonyms: \" + str(next(list(y) for y in equivalence_set if x in y)))\n",
    "uuids = []\n",
    "for _ in range(results_GPT.index.size):\n",
    "    uuids.append(\"\".join([\"[\", str(uuid.uuid4()), \"]\"]))\n",
    "UUID_MR[\"Gestalt_PT_UUID\"] = uuids\n",
    "results_GPT[\"uuid\"] = UUID_MR[\"Gestalt_PT_UUID\"] "
   ]
  },
  {
   "cell_type": "code",
   "execution_count": 29,
   "id": "f3a991c5",
   "metadata": {},
   "outputs": [],
   "source": [
    "# results_GPT"
   ]
  },
  {
   "cell_type": "code",
   "execution_count": 30,
   "id": "4a4b3efc",
   "metadata": {},
   "outputs": [],
   "source": [
    "for i in results_GPT.index:\n",
    "    results_GPT.loc[i].to_csv(\"./Novelty_Results/Gestalt/PT_{}.txt\".format(i), sep='\\n', header= False, index=False)       "
   ]
  },
  {
   "cell_type": "code",
   "execution_count": 31,
   "id": "ef9a4744",
   "metadata": {},
   "outputs": [],
   "source": [
    "del results_GPT"
   ]
  },
  {
   "cell_type": "markdown",
   "id": "ae77e4a3",
   "metadata": {},
   "source": [
    "------------------------------------------------"
   ]
  },
  {
   "cell_type": "markdown",
   "id": "cbd3f8a1",
   "metadata": {},
   "source": [
    "# GESTALT LB"
   ]
  },
  {
   "cell_type": "code",
   "execution_count": 32,
   "id": "701fc99e",
   "metadata": {},
   "outputs": [],
   "source": [
    "results_GLB = find_Gesalt_ranks(df = LatinBinomials.loc[:, ['x', 'Processed_x']], ranks = 20, targets = unmapped_sequences, equivalence_set = equivalence_set, find_related_rank= False)"
   ]
  },
  {
   "cell_type": "code",
   "execution_count": 33,
   "id": "238ea62e",
   "metadata": {},
   "outputs": [],
   "source": [
    "results_GLB = results_GLB.iloc[:, ~results_GLB.columns.isin(['Processed_x', 'Processed_y', 'Match', 'Distance'])]\n",
    "results_GLB[\"x\"] = results_GLB[\"x\"].apply(lambda x: x + \" Synonyms: \" + str(next(list(y) for y in equivalence_set if x in y)))\n",
    "uuids = []\n",
    "for _ in range(results_GLB.index.size):\n",
    "    uuids.append(\"\".join([\"[\", str(uuid.uuid4()), \"]\"]))\n",
    "UUID_MR[\"Gestalt_LB_UUID\"] = uuids\n",
    "results_GLB[\"uuid\"] = UUID_MR[\"Gestalt_LB_UUID\"] "
   ]
  },
  {
   "cell_type": "code",
   "execution_count": 34,
   "id": "7ee66ab1",
   "metadata": {},
   "outputs": [],
   "source": [
    "# results_GLB"
   ]
  },
  {
   "cell_type": "code",
   "execution_count": 35,
   "id": "7dc64df1",
   "metadata": {},
   "outputs": [],
   "source": [
    "for i in results_GLB.index:\n",
    "    results_GLB.loc[i].to_csv(\"./Novelty_Results/Gestalt/LB_{}.txt\".format(i), sep='\\n', header= False, index=False)"
   ]
  },
  {
   "cell_type": "code",
   "execution_count": 36,
   "id": "bdcf49bc",
   "metadata": {},
   "outputs": [],
   "source": [
    "del results_GLB"
   ]
  },
  {
   "cell_type": "markdown",
   "id": "915171c8",
   "metadata": {},
   "source": [
    "------------------------------------------------"
   ]
  },
  {
   "cell_type": "code",
   "execution_count": 37,
   "id": "340bcda0",
   "metadata": {},
   "outputs": [],
   "source": [
    "UUID_MR.to_csv(\"./Novelty_Results/MasterRecords.csv\")"
   ]
  },
  {
   "cell_type": "code",
   "execution_count": 38,
   "id": "f82e7b0c",
   "metadata": {},
   "outputs": [],
   "source": [
    "# results[\"x\"] = results[\"x\"].apply(lambda x: x + \" Synonyms: \" + equivalence_set[equivalence_set['x'] == x][\"y\"].to_list() if equivalence_set[equivalence_set['x'] == x][\"x\"].any() else x)"
   ]
  },
  {
   "cell_type": "code",
   "execution_count": 39,
   "id": "0599e4dd",
   "metadata": {},
   "outputs": [],
   "source": [
    "# dUnique_df = pd.read_pickle(\"../data/dUnique_df.pkl\")"
   ]
  },
  {
   "cell_type": "code",
   "execution_count": 40,
   "id": "eb5a591e",
   "metadata": {},
   "outputs": [],
   "source": [
    "# latin_2_common = preprocessInput('../data/vocabulary_LB_to_common_names_09082022.tsv', maxlen= model_config['MAXLEN'], reflexive=True, balance = False, sep='\\t')"
   ]
  },
  {
   "cell_type": "code",
   "execution_count": 41,
   "id": "18b3dcd8",
   "metadata": {},
   "outputs": [],
   "source": [
    "# common_2_latin = preprocessInput('../data/positive-unmapped-pairs-common-name-or-latin-binomial-copies.tsv', maxlen= model_config['MAXLEN'], reflexive=True, balance = False, sep='\\t')"
   ]
  },
  {
   "cell_type": "code",
   "execution_count": 42,
   "id": "1c8d62fb",
   "metadata": {},
   "outputs": [],
   "source": [
    "# gsrs_2_common = preprocessInput('../data/positive-unmapped-pairs-gsrs-name-to-common-name.tsv', maxlen= model_config['MAXLEN'], reflexive=True, balance = False, sep='\\t')"
   ]
  },
  {
   "cell_type": "code",
   "execution_count": 43,
   "id": "75b57169",
   "metadata": {},
   "outputs": [],
   "source": [
    "# equivalence_set = pd.concat([latin_2_common, common_2_latin, gsrs_2_common], ignore_index=True)\n",
    "# equivalence_set.drop_duplicates(subset=['x', 'y'], inplace=True)"
   ]
  }
 ],
 "metadata": {
  "kernelspec": {
   "display_name": "Python 3 (ipykernel)",
   "language": "python",
   "name": "python3"
  },
  "language_info": {
   "codemirror_mode": {
    "name": "ipython",
    "version": 3
   },
   "file_extension": ".py",
   "mimetype": "text/x-python",
   "name": "python",
   "nbconvert_exporter": "python",
   "pygments_lexer": "ipython3",
   "version": "3.10.6"
  }
 },
 "nbformat": 4,
 "nbformat_minor": 5
}
